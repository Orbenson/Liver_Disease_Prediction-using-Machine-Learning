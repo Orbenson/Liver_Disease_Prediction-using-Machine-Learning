{
  "cells": [
    {
      "cell_type": "markdown",
      "metadata": {
        "id": "wubPzIoITPVC"
      },
      "source": [
        "### **Liver Disease Patient Dataset**"
      ]
    },
    {
      "cell_type": "markdown",
      "metadata": {
        "id": "Kc_5wbapTrqV"
      },
      "source": [
        "**Data set:**\n",
        "\n",
        "The data Set contains 20K train data, ~1K Test data.\n",
        "\n",
        "This data set contains 10 variables that are age, gender, total Bilirubin, direct Bilirubin, total proteins, albumin, A/G ratio, SGPT, SGOT and Alkphos.\n",
        "\n"
      ]
    },
    {
      "cell_type": "markdown",
      "metadata": {
        "id": "v96YpY8bqonN"
      },
      "source": [
        "From the website of Mount Sinai hospital we collected the data of the normal results of each feature."
      ]
    },
    {
      "cell_type": "markdown",
      "metadata": {
        "id": "WM6_Rbu7q9vC"
      },
      "source": [
        "https://www.mountsinai.org/health-library"
      ]
    },
    {
      "cell_type": "markdown",
      "metadata": {
        "id": "rtPHbmxxTrsl"
      },
      "source": [
        "**Attribute Information:**\n",
        "\n",
        "1. Age - the age of the patient\n",
        "2. Gender -  the gender of the patient\n",
        "3. TB  - Total Bilirubin. This is a blood test that measures the amount of a substance called bilirubin. This test is used to find out how well your liver is working. It is often part of a panel of tests that measure liver function. A small amount of bilirubin in your blood is normal, but a high level may be a sign of liver disease. <br>\n",
        "The normal range is between 0.1 to 1.2 mg/dL \n",
        "4. DB - Direct Bilirubin. <br>\n",
        "The normal range is less than 0.3 mg/dL\n",
        "5. Alkphos - Alkaline Phosphotas. <br>\n",
        "The normal range is between 44 to 147 international units per literת IU/L\n",
        "6. Sgpt - Alanine Aminotransferase, An enzyme found in the liver and other tissues. <br>\n",
        "The normal range is between 4 to 36 U/L.\n",
        "7. Sgot - Aspartate Aminotransferase also an enzyme found in the liver.  <br>\n",
        "The normal range is between 8 to 33 U/L.\n",
        "8. TP - Total Proteins. <br>\n",
        "The normal range between is 6.0 to 8.3 grams per deciliterת g/dL\n",
        "9. ALB - Albumin. <br>\n",
        "The normal range is between 3.4 to 5.4 g/dL \n",
        "10. A/G  - The Ratio Albumin and Globulin Ratio. It measures the ratio of albumin to globulin, the two main proteins in your blood. The normal range for albumin/globulin ratio is over 1 Source, usually around 1 to 2. That’s because there’s a bit more albumin than globulin in serum protein.\n",
        "\n",
        "Selector field used to split the data into two sets (labeled by the experts) 1 Liver Patient, 2 non Liver Patient we transformed the 2 into zero for convenience mesures later on)"
      ]
    },
    {
      "cell_type": "markdown",
      "metadata": {
        "id": "VmOOqz4AAocQ"
      },
      "source": [
        "### Install relevant packages"
      ]
    },
    {
      "cell_type": "code",
      "execution_count": null,
      "metadata": {
        "colab": {
          "base_uri": "https://localhost:8080/"
        },
        "id": "JJMatIpUTRjY",
        "outputId": "79814095-25f1-4990-c2ee-27417da9632f"
      },
      "outputs": [
        {
          "name": "stdout",
          "output_type": "stream",
          "text": [
            "Looking in indexes: https://pypi.org/simple, https://us-python.pkg.dev/colab-wheels/public/simple/\n",
            "Requirement already satisfied: pyspark in /usr/local/lib/python3.8/dist-packages (3.3.2)\n",
            "Requirement already satisfied: py4j==0.10.9.5 in /usr/local/lib/python3.8/dist-packages (from pyspark) (0.10.9.5)\n"
          ]
        }
      ],
      "source": [
        "!pip install pyspark"
      ]
    },
    {
      "cell_type": "markdown",
      "metadata": {
        "id": "PJSZlpwvAjw8"
      },
      "source": [
        "### Imports"
      ]
    },
    {
      "cell_type": "code",
      "execution_count": null,
      "metadata": {
        "id": "Xujk6mx4xro8"
      },
      "outputs": [],
      "source": [
        "# Import other modules not related to PySpark\n",
        "import pandas as pd\n",
        "import numpy as np\n",
        "import matplotlib.pyplot as plt\n",
        "import matplotlib\n",
        "import seaborn as sns\n",
        "from sklearn.metrics import accuracy_score\n",
        "import warnings\n",
        "sns.set_style('darkgrid')\n",
        "%matplotlib inline"
      ]
    },
    {
      "cell_type": "code",
      "execution_count": null,
      "metadata": {
        "id": "hF-g2APDyAjT"
      },
      "outputs": [],
      "source": [
        "# Import PySpark related modules\n",
        "import pyspark as sp\n",
        "from pyspark.rdd import RDD\n",
        "from pyspark.sql import Row\n",
        "from pyspark.sql import DataFrame\n",
        "from pyspark.sql import SparkSession\n",
        "import pyspark.sql.functions as F\n",
        "from pyspark.sql import SQLContext\n",
        "from pyspark.sql import functions\n",
        "\n",
        "import pyspark.sql.functions as func\n",
        "from pyspark.sql.functions import lit,mean, desc, col, size, array_contains\\\n",
        ", isnan, udf, hour, array_min, array_max, countDistinct, when, sum,avg,max,count\n",
        "from pyspark.ml.feature import Bucketizer\n",
        "from pyspark.sql.types import *\n",
        "from pyspark.sql.functions import col, count, mean\n",
        "from pyspark.ml.stat import Correlation\n",
        "from pyspark.ml.feature import VectorAssembler, StringIndexer\n",
        "from pyspark.ml.classification import LogisticRegression, RandomForestClassifier, NaiveBayes\n",
        "from pyspark.ml.evaluation import MulticlassClassificationEvaluator, BinaryClassificationEvaluator"
      ]
    },
    {
      "cell_type": "code",
      "execution_count": null,
      "metadata": {
        "id": "m6C8BdBk1DHs"
      },
      "outputs": [],
      "source": [
        "warnings.filterwarnings('ignore')"
      ]
    },
    {
      "cell_type": "markdown",
      "metadata": {
        "id": "OGhk7IiwA4XN"
      },
      "source": [
        "### Set up spark environment"
      ]
    },
    {
      "cell_type": "code",
      "execution_count": null,
      "metadata": {
        "colab": {
          "base_uri": "https://localhost:8080/"
        },
        "id": "wpyOdH3G2Phh",
        "outputId": "d70552c9-ddd2-482e-c401-b6d9bf122e3d"
      },
      "outputs": [
        {
          "name": "stdout",
          "output_type": "stream",
          "text": [
            "<SparkContext master=local[*] appName=pyspark-shell>\n",
            "3.3.2\n"
          ]
        }
      ],
      "source": [
        "# Initialize a spark session\n",
        "sc = sp.SparkContext.getOrCreate()\n",
        "print(sc)\n",
        "print(sc.version)"
      ]
    },
    {
      "cell_type": "markdown",
      "metadata": {
        "id": "vB9ZWbURA_Zp"
      },
      "source": [
        "### Start Spark Session"
      ]
    },
    {
      "cell_type": "code",
      "execution_count": null,
      "metadata": {
        "id": "kRHiRgHLA_jS"
      },
      "outputs": [],
      "source": [
        "# create a SparkSession\n",
        "spark = SparkSession.builder.appName(\"Liver Patient Prediction\").getOrCreate()"
      ]
    },
    {
      "cell_type": "markdown",
      "metadata": {
        "id": "sA1NK2jlBE6Y"
      },
      "source": [
        "## Read datasets"
      ]
    },
    {
      "cell_type": "code",
      "execution_count": null,
      "metadata": {
        "id": "45v8B0QVBFAQ"
      },
      "outputs": [],
      "source": [
        "# load the CSV file as a DataFrame\n",
        "file_path = \"Liver Patient Dataset (LPD)_train - Liver Patient Dataset (LPD)_train.csv\"\n",
        "df = spark.read.format(\"csv\").option(\"header\", True).option(\"inferSchema\", True).load(file_path)"
      ]
    },
    {
      "cell_type": "markdown",
      "metadata": {
        "id": "pvbmFAbj1cd1"
      },
      "source": [
        "## **Overview of Dataset**"
      ]
    },
    {
      "cell_type": "markdown",
      "metadata": {
        "id": "BcdMQFr1BkaW"
      },
      "source": [
        "### Data Pre-Processing"
      ]
    },
    {
      "cell_type": "code",
      "execution_count": null,
      "metadata": {
        "colab": {
          "base_uri": "https://localhost:8080/"
        },
        "id": "rxBfekfPTK_G",
        "outputId": "6d5b44b9-0b3f-419c-ea63-98415935f1f4"
      },
      "outputs": [
        {
          "data": {
            "text/plain": [
              "pyspark.sql.dataframe.DataFrame"
            ]
          },
          "execution_count": 95,
          "metadata": {},
          "output_type": "execute_result"
        }
      ],
      "source": [
        "type(df)"
      ]
    },
    {
      "cell_type": "code",
      "execution_count": null,
      "metadata": {
        "colab": {
          "base_uri": "https://localhost:8080/"
        },
        "id": "XhtyXmQb1bsn",
        "outputId": "eabfce8b-eb46-493e-a2fe-efa1e783a2f5"
      },
      "outputs": [
        {
          "name": "stdout",
          "output_type": "stream",
          "text": [
            "root\n",
            " |-- Age of the patient: integer (nullable = true)\n",
            " |-- Gender of the patient: string (nullable = true)\n",
            " |-- Total Bilirubin: double (nullable = true)\n",
            " |-- Direct Bilirubin: double (nullable = true)\n",
            " |--  Alkphos Alkaline Phosphotase: integer (nullable = true)\n",
            " |--  Sgpt Alamine Aminotransferase: integer (nullable = true)\n",
            " |-- Sgot Aspartate Aminotransferase: integer (nullable = true)\n",
            " |-- Total Protiens: double (nullable = true)\n",
            " |--  ALB Albumin: double (nullable = true)\n",
            " |-- A/G Ratio Albumin and Globulin Ratio: double (nullable = true)\n",
            " |-- Result: integer (nullable = true)\n",
            "\n"
          ]
        }
      ],
      "source": [
        "# Check the data types of the columns in the DataFrame\n",
        "df.printSchema()"
      ]
    },
    {
      "cell_type": "code",
      "execution_count": null,
      "metadata": {
        "colab": {
          "base_uri": "https://localhost:8080/",
          "height": 394
        },
        "id": "e6L2dy2B1oYS",
        "outputId": "f6bc05d9-fe39-4bed-ad96-8eac0018695a"
      },
      "outputs": [
        {
          "data": {
            "text/html": [
              "\n",
              "  <div id=\"df-a9f61bf6-73c6-4bdb-b33a-ed2be4d9f69d\">\n",
              "    <div class=\"colab-df-container\">\n",
              "      <div>\n",
              "<style scoped>\n",
              "    .dataframe tbody tr th:only-of-type {\n",
              "        vertical-align: middle;\n",
              "    }\n",
              "\n",
              "    .dataframe tbody tr th {\n",
              "        vertical-align: top;\n",
              "    }\n",
              "\n",
              "    .dataframe thead th {\n",
              "        text-align: right;\n",
              "    }\n",
              "</style>\n",
              "<table border=\"1\" class=\"dataframe\">\n",
              "  <thead>\n",
              "    <tr style=\"text-align: right;\">\n",
              "      <th></th>\n",
              "      <th>Column Name</th>\n",
              "      <th>Data type</th>\n",
              "    </tr>\n",
              "  </thead>\n",
              "  <tbody>\n",
              "    <tr>\n",
              "      <th>0</th>\n",
              "      <td>Age of the patient</td>\n",
              "      <td>int</td>\n",
              "    </tr>\n",
              "    <tr>\n",
              "      <th>1</th>\n",
              "      <td>Gender of the patient</td>\n",
              "      <td>string</td>\n",
              "    </tr>\n",
              "    <tr>\n",
              "      <th>2</th>\n",
              "      <td>Total Bilirubin</td>\n",
              "      <td>double</td>\n",
              "    </tr>\n",
              "    <tr>\n",
              "      <th>3</th>\n",
              "      <td>Direct Bilirubin</td>\n",
              "      <td>double</td>\n",
              "    </tr>\n",
              "    <tr>\n",
              "      <th>4</th>\n",
              "      <td>Alkphos Alkaline Phosphotase</td>\n",
              "      <td>int</td>\n",
              "    </tr>\n",
              "    <tr>\n",
              "      <th>5</th>\n",
              "      <td>Sgpt Alamine Aminotransferase</td>\n",
              "      <td>int</td>\n",
              "    </tr>\n",
              "    <tr>\n",
              "      <th>6</th>\n",
              "      <td>Sgot Aspartate Aminotransferase</td>\n",
              "      <td>int</td>\n",
              "    </tr>\n",
              "    <tr>\n",
              "      <th>7</th>\n",
              "      <td>Total Protiens</td>\n",
              "      <td>double</td>\n",
              "    </tr>\n",
              "    <tr>\n",
              "      <th>8</th>\n",
              "      <td>ALB Albumin</td>\n",
              "      <td>double</td>\n",
              "    </tr>\n",
              "    <tr>\n",
              "      <th>9</th>\n",
              "      <td>A/G Ratio Albumin and Globulin Ratio</td>\n",
              "      <td>double</td>\n",
              "    </tr>\n",
              "    <tr>\n",
              "      <th>10</th>\n",
              "      <td>Result</td>\n",
              "      <td>int</td>\n",
              "    </tr>\n",
              "  </tbody>\n",
              "</table>\n",
              "</div>\n",
              "      <button class=\"colab-df-convert\" onclick=\"convertToInteractive('df-a9f61bf6-73c6-4bdb-b33a-ed2be4d9f69d')\"\n",
              "              title=\"Convert this dataframe to an interactive table.\"\n",
              "              style=\"display:none;\">\n",
              "        \n",
              "  <svg xmlns=\"http://www.w3.org/2000/svg\" height=\"24px\"viewBox=\"0 0 24 24\"\n",
              "       width=\"24px\">\n",
              "    <path d=\"M0 0h24v24H0V0z\" fill=\"none\"/>\n",
              "    <path d=\"M18.56 5.44l.94 2.06.94-2.06 2.06-.94-2.06-.94-.94-2.06-.94 2.06-2.06.94zm-11 1L8.5 8.5l.94-2.06 2.06-.94-2.06-.94L8.5 2.5l-.94 2.06-2.06.94zm10 10l.94 2.06.94-2.06 2.06-.94-2.06-.94-.94-2.06-.94 2.06-2.06.94z\"/><path d=\"M17.41 7.96l-1.37-1.37c-.4-.4-.92-.59-1.43-.59-.52 0-1.04.2-1.43.59L10.3 9.45l-7.72 7.72c-.78.78-.78 2.05 0 2.83L4 21.41c.39.39.9.59 1.41.59.51 0 1.02-.2 1.41-.59l7.78-7.78 2.81-2.81c.8-.78.8-2.07 0-2.86zM5.41 20L4 18.59l7.72-7.72 1.47 1.35L5.41 20z\"/>\n",
              "  </svg>\n",
              "      </button>\n",
              "      \n",
              "  <style>\n",
              "    .colab-df-container {\n",
              "      display:flex;\n",
              "      flex-wrap:wrap;\n",
              "      gap: 12px;\n",
              "    }\n",
              "\n",
              "    .colab-df-convert {\n",
              "      background-color: #E8F0FE;\n",
              "      border: none;\n",
              "      border-radius: 50%;\n",
              "      cursor: pointer;\n",
              "      display: none;\n",
              "      fill: #1967D2;\n",
              "      height: 32px;\n",
              "      padding: 0 0 0 0;\n",
              "      width: 32px;\n",
              "    }\n",
              "\n",
              "    .colab-df-convert:hover {\n",
              "      background-color: #E2EBFA;\n",
              "      box-shadow: 0px 1px 2px rgba(60, 64, 67, 0.3), 0px 1px 3px 1px rgba(60, 64, 67, 0.15);\n",
              "      fill: #174EA6;\n",
              "    }\n",
              "\n",
              "    [theme=dark] .colab-df-convert {\n",
              "      background-color: #3B4455;\n",
              "      fill: #D2E3FC;\n",
              "    }\n",
              "\n",
              "    [theme=dark] .colab-df-convert:hover {\n",
              "      background-color: #434B5C;\n",
              "      box-shadow: 0px 1px 3px 1px rgba(0, 0, 0, 0.15);\n",
              "      filter: drop-shadow(0px 1px 2px rgba(0, 0, 0, 0.3));\n",
              "      fill: #FFFFFF;\n",
              "    }\n",
              "  </style>\n",
              "\n",
              "      <script>\n",
              "        const buttonEl =\n",
              "          document.querySelector('#df-a9f61bf6-73c6-4bdb-b33a-ed2be4d9f69d button.colab-df-convert');\n",
              "        buttonEl.style.display =\n",
              "          google.colab.kernel.accessAllowed ? 'block' : 'none';\n",
              "\n",
              "        async function convertToInteractive(key) {\n",
              "          const element = document.querySelector('#df-a9f61bf6-73c6-4bdb-b33a-ed2be4d9f69d');\n",
              "          const dataTable =\n",
              "            await google.colab.kernel.invokeFunction('convertToInteractive',\n",
              "                                                     [key], {});\n",
              "          if (!dataTable) return;\n",
              "\n",
              "          const docLinkHtml = 'Like what you see? Visit the ' +\n",
              "            '<a target=\"_blank\" href=https://colab.research.google.com/notebooks/data_table.ipynb>data table notebook</a>'\n",
              "            + ' to learn more about interactive tables.';\n",
              "          element.innerHTML = '';\n",
              "          dataTable['output_type'] = 'display_data';\n",
              "          await google.colab.output.renderOutput(dataTable, element);\n",
              "          const docLink = document.createElement('div');\n",
              "          docLink.innerHTML = docLinkHtml;\n",
              "          element.appendChild(docLink);\n",
              "        }\n",
              "      </script>\n",
              "    </div>\n",
              "  </div>\n",
              "  "
            ],
            "text/plain": [
              "                             Column Name Data type\n",
              "0                     Age of the patient       int\n",
              "1                  Gender of the patient    string\n",
              "2                        Total Bilirubin    double\n",
              "3                       Direct Bilirubin    double\n",
              "4           Alkphos Alkaline Phosphotase       int\n",
              "5          Sgpt Alamine Aminotransferase       int\n",
              "6        Sgot Aspartate Aminotransferase       int\n",
              "7                         Total Protiens    double\n",
              "8                            ALB Albumin    double\n",
              "9   A/G Ratio Albumin and Globulin Ratio    double\n",
              "10                                Result       int"
            ]
          },
          "execution_count": 97,
          "metadata": {},
          "output_type": "execute_result"
        }
      ],
      "source": [
        "pd.DataFrame(df.dtypes, columns = ['Column Name','Data type'])"
      ]
    },
    {
      "cell_type": "markdown",
      "metadata": {
        "id": "ADNsSLT4BvsM"
      },
      "source": [
        "### Set coulmns names"
      ]
    },
    {
      "cell_type": "code",
      "execution_count": null,
      "metadata": {
        "colab": {
          "base_uri": "https://localhost:8080/"
        },
        "id": "HeqmwIFg25ik",
        "outputId": "55ef381b-3d34-466c-e9ae-94c4fdfd2223"
      },
      "outputs": [
        {
          "name": "stdout",
          "output_type": "stream",
          "text": [
            "+---+------+----+---+---+------+------+---+----+---------+------+\n",
            "|age|gender|  TB| DB|AAP|SgptAA|SgotAA| TP|ALBA|A/G ratio|target|\n",
            "+---+------+----+---+---+------+------+---+----+---------+------+\n",
            "| 65|Female| 0.7|0.1|187|    16|    18|6.8| 3.3|      0.9|     1|\n",
            "| 62|  Male|10.9|5.5|699|    64|   100|7.5| 3.2|     0.74|     1|\n",
            "| 62|  Male| 7.3|4.1|490|    60|    68|7.0| 3.3|     0.89|     1|\n",
            "| 58|  Male| 1.0|0.4|182|    14|    20|6.8| 3.4|      1.0|     1|\n",
            "| 72|  Male| 3.9|2.0|195|    27|    59|7.3| 2.4|      0.4|     1|\n",
            "| 46|  Male| 1.8|0.7|208|    19|    14|7.6| 4.4|      1.3|     1|\n",
            "| 26|Female| 0.9|0.2|154|  null|    12|7.0| 3.5|      1.0|     1|\n",
            "| 29|Female| 0.9|0.3|202|    14|    11|6.7| 3.6|      1.1|     1|\n",
            "| 17|  Male| 0.9|0.3|202|    22|    19|7.4| 4.1|      1.2|     2|\n",
            "| 55|  Male| 0.7|0.2|290|    53|    58|6.8| 3.4|      1.0|     1|\n",
            "| 57|  Male| 0.6|0.1|210|    51|    59|5.9| 2.7|      0.8|     1|\n",
            "| 72|  Male| 2.7|1.3|260|    31|    56|7.4| 3.0|      0.6|     1|\n",
            "| 64|  Male| 0.9|0.3|310|    61|    58|7.0| 3.4|      0.9|     2|\n",
            "| 74|Female| 1.1|0.4|214|    22|    30|8.1| 4.1|      1.0|     1|\n",
            "| 61|  Male| 0.7|0.2|145|    53|    41|5.8| 2.7|     0.87|     1|\n",
            "| 25|  Male| 0.6|0.1|183|    91|    53|5.5| 2.3|      0.7|     2|\n",
            "| 38|  Male| 1.8|0.8|342|   168|   441|7.6| 4.4|      1.3|     1|\n",
            "| 33|  Male| 1.6|0.5|165|    15|    23|7.3| 3.5|     0.92|     2|\n",
            "| 40|Female| 0.9|0.3|293|   232|   245|6.8| 3.1|      0.8|     1|\n",
            "| 40|Female| 0.9|0.3|293|   232|   245|6.8| 3.1|      0.8|     1|\n",
            "+---+------+----+---+---+------+------+---+----+---------+------+\n",
            "only showing top 20 rows\n",
            "\n"
          ]
        }
      ],
      "source": [
        "# Change the coulms names \n",
        "Columns = [\"age\",\"gender\",\"TB\",\"DB\",\"AAP\",\"SgptAA\",\"SgotAA\",\"TP\",\"ALBA\",\"A/G ratio\",\"target\"]\n",
        "df = df.toDF(*Columns)\n",
        "df.show()"
      ]
    },
    {
      "cell_type": "markdown",
      "metadata": {
        "id": "9DdOe8Ms18IK"
      },
      "source": [
        "## **Detect missing values and abnormal zeroes**"
      ]
    },
    {
      "cell_type": "markdown",
      "metadata": {
        "id": "OmaKjaXPCwSu"
      },
      "source": [
        "### Start by checking the total number of rows we have "
      ]
    },
    {
      "cell_type": "code",
      "execution_count": null,
      "metadata": {
        "colab": {
          "base_uri": "https://localhost:8080/"
        },
        "id": "CuYbw3BZTXoW",
        "outputId": "8de41834-d626-4e1c-cf71-ac458ef24636"
      },
      "outputs": [
        {
          "name": "stdout",
          "output_type": "stream",
          "text": [
            "Number of rows:  30691\n",
            "Number of columns:  11\n"
          ]
        }
      ],
      "source": [
        "# Check the number of rows and columns in the DataFrame\n",
        "print(\"Number of rows: \", df.count())\n",
        "print(\"Number of columns: \", len(df.columns))"
      ]
    },
    {
      "cell_type": "code",
      "execution_count": null,
      "metadata": {
        "colab": {
          "base_uri": "https://localhost:8080/"
        },
        "id": "tuzXpg8uJSZm",
        "outputId": "0764ffaa-471a-4e03-98a4-02d84e0fa141"
      },
      "outputs": [
        {
          "name": "stdout",
          "output_type": "stream",
          "text": [
            "+------+-----+\n",
            "|target|count|\n",
            "+------+-----+\n",
            "|     1|21917|\n",
            "|     2| 8774|\n",
            "+------+-----+\n",
            "\n"
          ]
        }
      ],
      "source": [
        "df.groupby('target').count().show()"
      ]
    },
    {
      "cell_type": "markdown",
      "metadata": {
        "id": "74Lvqp-HDJ4n"
      },
      "source": [
        "Change the target numbers to be 0/1 instead of 2/1 where:\n",
        "\n",
        "1 - Diagnosed with liver disease \n",
        "\n",
        "0 - Is not diagnosed with liver disease "
      ]
    },
    {
      "cell_type": "code",
      "execution_count": null,
      "metadata": {
        "colab": {
          "base_uri": "https://localhost:8080/"
        },
        "id": "lvzCTaphCU3z",
        "outputId": "e8d87545-6f80-4c33-dcbe-e8a9c663beb6"
      },
      "outputs": [
        {
          "name": "stdout",
          "output_type": "stream",
          "text": [
            "+------+-----+\n",
            "|target|count|\n",
            "+------+-----+\n",
            "|     1|21917|\n",
            "|     0| 8774|\n",
            "+------+-----+\n",
            "\n"
          ]
        }
      ],
      "source": [
        "df = df.withColumn('target', when(df.target == 2,0).otherwise(df.target))\n",
        "df.groupby('target').count().show()"
      ]
    },
    {
      "cell_type": "markdown",
      "metadata": {
        "id": "f9kysI7l2BmD"
      },
      "source": [
        "After having a first sight of the columns, the first thing we should check is if the data set having any missing value.\n",
        "\n",
        "*   For string columns, we check for None and null\n",
        "*   For numeric columns, we check for zeroes and NaN"
      ]
    },
    {
      "cell_type": "code",
      "execution_count": null,
      "metadata": {
        "colab": {
          "base_uri": "https://localhost:8080/",
          "height": 412
        },
        "id": "7xtJbOeu17ox",
        "outputId": "693b2871-83bc-4331-b866-c7568d364e6e"
      },
      "outputs": [
        {
          "name": "stdout",
          "output_type": "stream",
          "text": [
            "Columns overview\n"
          ]
        },
        {
          "data": {
            "text/html": [
              "\n",
              "  <div id=\"df-7278b6ac-f2b6-41c5-9c10-975d01869c85\">\n",
              "    <div class=\"colab-df-container\">\n",
              "      <div>\n",
              "<style scoped>\n",
              "    .dataframe tbody tr th:only-of-type {\n",
              "        vertical-align: middle;\n",
              "    }\n",
              "\n",
              "    .dataframe tbody tr th {\n",
              "        vertical-align: top;\n",
              "    }\n",
              "\n",
              "    .dataframe thead th {\n",
              "        text-align: right;\n",
              "    }\n",
              "</style>\n",
              "<table border=\"1\" class=\"dataframe\">\n",
              "  <thead>\n",
              "    <tr style=\"text-align: right;\">\n",
              "      <th></th>\n",
              "      <th>Column Name</th>\n",
              "      <th>Data type</th>\n",
              "    </tr>\n",
              "  </thead>\n",
              "  <tbody>\n",
              "    <tr>\n",
              "      <th>0</th>\n",
              "      <td>age</td>\n",
              "      <td>int</td>\n",
              "    </tr>\n",
              "    <tr>\n",
              "      <th>1</th>\n",
              "      <td>gender</td>\n",
              "      <td>string</td>\n",
              "    </tr>\n",
              "    <tr>\n",
              "      <th>2</th>\n",
              "      <td>TB</td>\n",
              "      <td>double</td>\n",
              "    </tr>\n",
              "    <tr>\n",
              "      <th>3</th>\n",
              "      <td>DB</td>\n",
              "      <td>double</td>\n",
              "    </tr>\n",
              "    <tr>\n",
              "      <th>4</th>\n",
              "      <td>AAP</td>\n",
              "      <td>int</td>\n",
              "    </tr>\n",
              "    <tr>\n",
              "      <th>5</th>\n",
              "      <td>SgptAA</td>\n",
              "      <td>int</td>\n",
              "    </tr>\n",
              "    <tr>\n",
              "      <th>6</th>\n",
              "      <td>SgotAA</td>\n",
              "      <td>int</td>\n",
              "    </tr>\n",
              "    <tr>\n",
              "      <th>7</th>\n",
              "      <td>TP</td>\n",
              "      <td>double</td>\n",
              "    </tr>\n",
              "    <tr>\n",
              "      <th>8</th>\n",
              "      <td>ALBA</td>\n",
              "      <td>double</td>\n",
              "    </tr>\n",
              "    <tr>\n",
              "      <th>9</th>\n",
              "      <td>A/G ratio</td>\n",
              "      <td>double</td>\n",
              "    </tr>\n",
              "    <tr>\n",
              "      <th>10</th>\n",
              "      <td>target</td>\n",
              "      <td>int</td>\n",
              "    </tr>\n",
              "  </tbody>\n",
              "</table>\n",
              "</div>\n",
              "      <button class=\"colab-df-convert\" onclick=\"convertToInteractive('df-7278b6ac-f2b6-41c5-9c10-975d01869c85')\"\n",
              "              title=\"Convert this dataframe to an interactive table.\"\n",
              "              style=\"display:none;\">\n",
              "        \n",
              "  <svg xmlns=\"http://www.w3.org/2000/svg\" height=\"24px\"viewBox=\"0 0 24 24\"\n",
              "       width=\"24px\">\n",
              "    <path d=\"M0 0h24v24H0V0z\" fill=\"none\"/>\n",
              "    <path d=\"M18.56 5.44l.94 2.06.94-2.06 2.06-.94-2.06-.94-.94-2.06-.94 2.06-2.06.94zm-11 1L8.5 8.5l.94-2.06 2.06-.94-2.06-.94L8.5 2.5l-.94 2.06-2.06.94zm10 10l.94 2.06.94-2.06 2.06-.94-2.06-.94-.94-2.06-.94 2.06-2.06.94z\"/><path d=\"M17.41 7.96l-1.37-1.37c-.4-.4-.92-.59-1.43-.59-.52 0-1.04.2-1.43.59L10.3 9.45l-7.72 7.72c-.78.78-.78 2.05 0 2.83L4 21.41c.39.39.9.59 1.41.59.51 0 1.02-.2 1.41-.59l7.78-7.78 2.81-2.81c.8-.78.8-2.07 0-2.86zM5.41 20L4 18.59l7.72-7.72 1.47 1.35L5.41 20z\"/>\n",
              "  </svg>\n",
              "      </button>\n",
              "      \n",
              "  <style>\n",
              "    .colab-df-container {\n",
              "      display:flex;\n",
              "      flex-wrap:wrap;\n",
              "      gap: 12px;\n",
              "    }\n",
              "\n",
              "    .colab-df-convert {\n",
              "      background-color: #E8F0FE;\n",
              "      border: none;\n",
              "      border-radius: 50%;\n",
              "      cursor: pointer;\n",
              "      display: none;\n",
              "      fill: #1967D2;\n",
              "      height: 32px;\n",
              "      padding: 0 0 0 0;\n",
              "      width: 32px;\n",
              "    }\n",
              "\n",
              "    .colab-df-convert:hover {\n",
              "      background-color: #E2EBFA;\n",
              "      box-shadow: 0px 1px 2px rgba(60, 64, 67, 0.3), 0px 1px 3px 1px rgba(60, 64, 67, 0.15);\n",
              "      fill: #174EA6;\n",
              "    }\n",
              "\n",
              "    [theme=dark] .colab-df-convert {\n",
              "      background-color: #3B4455;\n",
              "      fill: #D2E3FC;\n",
              "    }\n",
              "\n",
              "    [theme=dark] .colab-df-convert:hover {\n",
              "      background-color: #434B5C;\n",
              "      box-shadow: 0px 1px 3px 1px rgba(0, 0, 0, 0.15);\n",
              "      filter: drop-shadow(0px 1px 2px rgba(0, 0, 0, 0.3));\n",
              "      fill: #FFFFFF;\n",
              "    }\n",
              "  </style>\n",
              "\n",
              "      <script>\n",
              "        const buttonEl =\n",
              "          document.querySelector('#df-7278b6ac-f2b6-41c5-9c10-975d01869c85 button.colab-df-convert');\n",
              "        buttonEl.style.display =\n",
              "          google.colab.kernel.accessAllowed ? 'block' : 'none';\n",
              "\n",
              "        async function convertToInteractive(key) {\n",
              "          const element = document.querySelector('#df-7278b6ac-f2b6-41c5-9c10-975d01869c85');\n",
              "          const dataTable =\n",
              "            await google.colab.kernel.invokeFunction('convertToInteractive',\n",
              "                                                     [key], {});\n",
              "          if (!dataTable) return;\n",
              "\n",
              "          const docLinkHtml = 'Like what you see? Visit the ' +\n",
              "            '<a target=\"_blank\" href=https://colab.research.google.com/notebooks/data_table.ipynb>data table notebook</a>'\n",
              "            + ' to learn more about interactive tables.';\n",
              "          element.innerHTML = '';\n",
              "          dataTable['output_type'] = 'display_data';\n",
              "          await google.colab.output.renderOutput(dataTable, element);\n",
              "          const docLink = document.createElement('div');\n",
              "          docLink.innerHTML = docLinkHtml;\n",
              "          element.appendChild(docLink);\n",
              "        }\n",
              "      </script>\n",
              "    </div>\n",
              "  </div>\n",
              "  "
            ],
            "text/plain": [
              "   Column Name Data type\n",
              "0          age       int\n",
              "1       gender    string\n",
              "2           TB    double\n",
              "3           DB    double\n",
              "4          AAP       int\n",
              "5       SgptAA       int\n",
              "6       SgotAA       int\n",
              "7           TP    double\n",
              "8         ALBA    double\n",
              "9    A/G ratio    double\n",
              "10      target       int"
            ]
          },
          "execution_count": 102,
          "metadata": {},
          "output_type": "execute_result"
        }
      ],
      "source": [
        "print('Columns overview')\n",
        "pd.DataFrame(df.dtypes, columns = ['Column Name','Data type'])"
      ]
    },
    {
      "cell_type": "markdown",
      "metadata": {
        "id": "IxTXJsUIEO43"
      },
      "source": [
        "### Handle missing data"
      ]
    },
    {
      "cell_type": "code",
      "execution_count": null,
      "metadata": {
        "colab": {
          "base_uri": "https://localhost:8080/",
          "height": 81
        },
        "id": "cllr_W322QF1",
        "outputId": "170eeec3-f003-4a06-b2b8-d75e2bcff6fb"
      },
      "outputs": [
        {
          "data": {
            "text/html": [
              "\n",
              "  <div id=\"df-18fc2d10-8c34-474a-8248-b56d5e2b3cbe\">\n",
              "    <div class=\"colab-df-container\">\n",
              "      <div>\n",
              "<style scoped>\n",
              "    .dataframe tbody tr th:only-of-type {\n",
              "        vertical-align: middle;\n",
              "    }\n",
              "\n",
              "    .dataframe tbody tr th {\n",
              "        vertical-align: top;\n",
              "    }\n",
              "\n",
              "    .dataframe thead th {\n",
              "        text-align: right;\n",
              "    }\n",
              "</style>\n",
              "<table border=\"1\" class=\"dataframe\">\n",
              "  <thead>\n",
              "    <tr style=\"text-align: right;\">\n",
              "      <th></th>\n",
              "      <th>age</th>\n",
              "      <th>gender</th>\n",
              "      <th>TB</th>\n",
              "      <th>DB</th>\n",
              "      <th>AAP</th>\n",
              "      <th>SgptAA</th>\n",
              "      <th>SgotAA</th>\n",
              "      <th>TP</th>\n",
              "      <th>ALBA</th>\n",
              "      <th>A/G ratio</th>\n",
              "      <th>target</th>\n",
              "    </tr>\n",
              "  </thead>\n",
              "  <tbody>\n",
              "    <tr>\n",
              "      <th>0</th>\n",
              "      <td>2</td>\n",
              "      <td>902</td>\n",
              "      <td>648</td>\n",
              "      <td>561</td>\n",
              "      <td>796</td>\n",
              "      <td>538</td>\n",
              "      <td>462</td>\n",
              "      <td>463</td>\n",
              "      <td>494</td>\n",
              "      <td>559</td>\n",
              "      <td>0</td>\n",
              "    </tr>\n",
              "  </tbody>\n",
              "</table>\n",
              "</div>\n",
              "      <button class=\"colab-df-convert\" onclick=\"convertToInteractive('df-18fc2d10-8c34-474a-8248-b56d5e2b3cbe')\"\n",
              "              title=\"Convert this dataframe to an interactive table.\"\n",
              "              style=\"display:none;\">\n",
              "        \n",
              "  <svg xmlns=\"http://www.w3.org/2000/svg\" height=\"24px\"viewBox=\"0 0 24 24\"\n",
              "       width=\"24px\">\n",
              "    <path d=\"M0 0h24v24H0V0z\" fill=\"none\"/>\n",
              "    <path d=\"M18.56 5.44l.94 2.06.94-2.06 2.06-.94-2.06-.94-.94-2.06-.94 2.06-2.06.94zm-11 1L8.5 8.5l.94-2.06 2.06-.94-2.06-.94L8.5 2.5l-.94 2.06-2.06.94zm10 10l.94 2.06.94-2.06 2.06-.94-2.06-.94-.94-2.06-.94 2.06-2.06.94z\"/><path d=\"M17.41 7.96l-1.37-1.37c-.4-.4-.92-.59-1.43-.59-.52 0-1.04.2-1.43.59L10.3 9.45l-7.72 7.72c-.78.78-.78 2.05 0 2.83L4 21.41c.39.39.9.59 1.41.59.51 0 1.02-.2 1.41-.59l7.78-7.78 2.81-2.81c.8-.78.8-2.07 0-2.86zM5.41 20L4 18.59l7.72-7.72 1.47 1.35L5.41 20z\"/>\n",
              "  </svg>\n",
              "      </button>\n",
              "      \n",
              "  <style>\n",
              "    .colab-df-container {\n",
              "      display:flex;\n",
              "      flex-wrap:wrap;\n",
              "      gap: 12px;\n",
              "    }\n",
              "\n",
              "    .colab-df-convert {\n",
              "      background-color: #E8F0FE;\n",
              "      border: none;\n",
              "      border-radius: 50%;\n",
              "      cursor: pointer;\n",
              "      display: none;\n",
              "      fill: #1967D2;\n",
              "      height: 32px;\n",
              "      padding: 0 0 0 0;\n",
              "      width: 32px;\n",
              "    }\n",
              "\n",
              "    .colab-df-convert:hover {\n",
              "      background-color: #E2EBFA;\n",
              "      box-shadow: 0px 1px 2px rgba(60, 64, 67, 0.3), 0px 1px 3px 1px rgba(60, 64, 67, 0.15);\n",
              "      fill: #174EA6;\n",
              "    }\n",
              "\n",
              "    [theme=dark] .colab-df-convert {\n",
              "      background-color: #3B4455;\n",
              "      fill: #D2E3FC;\n",
              "    }\n",
              "\n",
              "    [theme=dark] .colab-df-convert:hover {\n",
              "      background-color: #434B5C;\n",
              "      box-shadow: 0px 1px 3px 1px rgba(0, 0, 0, 0.15);\n",
              "      filter: drop-shadow(0px 1px 2px rgba(0, 0, 0, 0.3));\n",
              "      fill: #FFFFFF;\n",
              "    }\n",
              "  </style>\n",
              "\n",
              "      <script>\n",
              "        const buttonEl =\n",
              "          document.querySelector('#df-18fc2d10-8c34-474a-8248-b56d5e2b3cbe button.colab-df-convert');\n",
              "        buttonEl.style.display =\n",
              "          google.colab.kernel.accessAllowed ? 'block' : 'none';\n",
              "\n",
              "        async function convertToInteractive(key) {\n",
              "          const element = document.querySelector('#df-18fc2d10-8c34-474a-8248-b56d5e2b3cbe');\n",
              "          const dataTable =\n",
              "            await google.colab.kernel.invokeFunction('convertToInteractive',\n",
              "                                                     [key], {});\n",
              "          if (!dataTable) return;\n",
              "\n",
              "          const docLinkHtml = 'Like what you see? Visit the ' +\n",
              "            '<a target=\"_blank\" href=https://colab.research.google.com/notebooks/data_table.ipynb>data table notebook</a>'\n",
              "            + ' to learn more about interactive tables.';\n",
              "          element.innerHTML = '';\n",
              "          dataTable['output_type'] = 'display_data';\n",
              "          await google.colab.output.renderOutput(dataTable, element);\n",
              "          const docLink = document.createElement('div');\n",
              "          docLink.innerHTML = docLinkHtml;\n",
              "          element.appendChild(docLink);\n",
              "        }\n",
              "      </script>\n",
              "    </div>\n",
              "  </div>\n",
              "  "
            ],
            "text/plain": [
              "   age  gender   TB   DB  AAP  SgptAA  SgotAA   TP  ALBA  A/G ratio  target\n",
              "0    2     902  648  561  796     538     462  463   494        559       0"
            ]
          },
          "execution_count": 103,
          "metadata": {},
          "output_type": "execute_result"
        }
      ],
      "source": [
        "# Check the number of missing values in each column of the DataFrame\n",
        "string_columns = ['gender']\n",
        "numeric_columns = ['age','gender','TB','DB','AAP','SgptAA','SgotAA','TP','ALBA','A/G ratio','target']\n",
        "missing_values = {} \n",
        "\n",
        "for index, column in enumerate(df.columns):\n",
        "    if column in string_columns:    # check string columns with None and Null values\n",
        "        missing_count = df.filter(col(column).eqNullSafe(None) | col(column).isNull()).count()\n",
        "        missing_values.update({column:missing_count})\n",
        "    if column in numeric_columns:  # check zeroes, None, NaN\n",
        "        missing_count = df.where(col(column).isNull()).count()\n",
        "        missing_values.update({column:missing_count})\n",
        "missing_df = pd.DataFrame.from_dict([missing_values])\n",
        "missing_df"
      ]
    },
    {
      "cell_type": "markdown",
      "metadata": {
        "id": "vbaTdhAsSWWG"
      },
      "source": [
        "We will handle missing data as follows:\n",
        "* Because gender is a categorical feature we will remove the missing data (it is less then 3% of the data) Thw same goes to age where there are 2 rows with missing data so we will remove them as well.\n",
        "* For the nomerical features we will two options to. remove the data and take the risk of losing data or replace the null values with other value. We choose to replace the null values with the mean of each feature and with that we will not lose any data. "
      ]
    },
    {
      "cell_type": "markdown",
      "metadata": {
        "id": "ZVwR9lvsUQNB"
      },
      "source": [
        "We will start with gender and age, first we will remove all null values and then we will convert it into inderxer:"
      ]
    },
    {
      "cell_type": "code",
      "execution_count": null,
      "metadata": {
        "colab": {
          "base_uri": "https://localhost:8080/"
        },
        "id": "0NU7c4B0mGXA",
        "outputId": "1da55498-764f-4760-ea6e-2fbf5d6c9692"
      },
      "outputs": [
        {
          "name": "stdout",
          "output_type": "stream",
          "text": [
            "Number of current rows:  29787\n"
          ]
        }
      ],
      "source": [
        "# Remove null values from gender and age\n",
        "df = df.filter(df.gender.isNotNull())\n",
        "df = df.filter(df.age.isNotNull())\n",
        "\n",
        "print(\"Number of current rows: \", df.count())"
      ]
    },
    {
      "cell_type": "code",
      "execution_count": null,
      "metadata": {
        "colab": {
          "base_uri": "https://localhost:8080/"
        },
        "id": "zERSaJjHnRiv",
        "outputId": "28a28e41-e09b-486e-8e51-990536697cfa"
      },
      "outputs": [
        {
          "name": "stdout",
          "output_type": "stream",
          "text": [
            "root\n",
            " |-- age: integer (nullable = true)\n",
            " |-- gender: string (nullable = true)\n",
            " |-- TB: double (nullable = true)\n",
            " |-- DB: double (nullable = true)\n",
            " |-- AAP: integer (nullable = true)\n",
            " |-- SgptAA: integer (nullable = true)\n",
            " |-- SgotAA: integer (nullable = true)\n",
            " |-- TP: double (nullable = true)\n",
            " |-- ALBA: double (nullable = true)\n",
            " |-- A/G ratio: double (nullable = true)\n",
            " |-- target: integer (nullable = true)\n",
            " |-- genderIndex: integer (nullable = true)\n",
            "\n",
            "+---+------+----+---+---+------+------+---+----+---------+------+-----------+\n",
            "|age|gender|  TB| DB|AAP|SgptAA|SgotAA| TP|ALBA|A/G ratio|target|genderIndex|\n",
            "+---+------+----+---+---+------+------+---+----+---------+------+-----------+\n",
            "| 65|Female| 0.7|0.1|187|    16|    18|6.8| 3.3|      0.9|     1|          1|\n",
            "| 62|  Male|10.9|5.5|699|    64|   100|7.5| 3.2|     0.74|     1|          0|\n",
            "| 62|  Male| 7.3|4.1|490|    60|    68|7.0| 3.3|     0.89|     1|          0|\n",
            "| 58|  Male| 1.0|0.4|182|    14|    20|6.8| 3.4|      1.0|     1|          0|\n",
            "| 72|  Male| 3.9|2.0|195|    27|    59|7.3| 2.4|      0.4|     1|          0|\n",
            "+---+------+----+---+---+------+------+---+----+---------+------+-----------+\n",
            "only showing top 5 rows\n",
            "\n"
          ]
        }
      ],
      "source": [
        "# Convert the \"gender\" column to a numeric type using StringIndexer\n",
        "indexer = StringIndexer(inputCol=\"gender\", outputCol=\"genderIndex\")\n",
        "df = indexer.fit(df).transform(df)\n",
        "df = df.withColumn(\"genderIndex\", func.round(df[\"genderIndex\"], 2).cast('integer'))\n",
        "\n",
        "# Check the data types of the columns in the DataFrame again\n",
        "df.printSchema()\n",
        "\n",
        "df.show(5)"
      ]
    },
    {
      "cell_type": "code",
      "execution_count": null,
      "metadata": {
        "colab": {
          "base_uri": "https://localhost:8080/"
        },
        "id": "1H_vI82kplHg",
        "outputId": "822c1387-fd50-4e6a-db85-abef4e230c3b"
      },
      "outputs": [
        {
          "name": "stdout",
          "output_type": "stream",
          "text": [
            "+---+----+---+---+------+------+---+----+---------+------+------+\n",
            "|age|  TB| DB|AAP|SgptAA|SgotAA| TP|ALBA|A/G ratio|target|gender|\n",
            "+---+----+---+---+------+------+---+----+---------+------+------+\n",
            "| 65| 0.7|0.1|187|    16|    18|6.8| 3.3|      0.9|     1|     1|\n",
            "| 62|10.9|5.5|699|    64|   100|7.5| 3.2|     0.74|     1|     0|\n",
            "| 62| 7.3|4.1|490|    60|    68|7.0| 3.3|     0.89|     1|     0|\n",
            "| 58| 1.0|0.4|182|    14|    20|6.8| 3.4|      1.0|     1|     0|\n",
            "| 72| 3.9|2.0|195|    27|    59|7.3| 2.4|      0.4|     1|     0|\n",
            "+---+----+---+---+------+------+---+----+---------+------+------+\n",
            "only showing top 5 rows\n",
            "\n"
          ]
        }
      ],
      "source": [
        "# Drop the original \"gender\" column and keep only the \"genderIndex\" column\n",
        "df = df.drop(\"gender\").withColumnRenamed(\"genderIndex\", \"gender\")\n",
        "df.show(5)"
      ]
    },
    {
      "cell_type": "code",
      "execution_count": null,
      "metadata": {
        "colab": {
          "base_uri": "https://localhost:8080/",
          "height": 288
        },
        "id": "3pF01pZNLVnu",
        "outputId": "f649acad-2a59-4847-9506-9d2cbc1129e8"
      },
      "outputs": [
        {
          "name": "stdout",
          "output_type": "stream",
          "text": [
            "Data frame describe (string and numeric columns only):\n"
          ]
        },
        {
          "data": {
            "text/html": [
              "\n",
              "  <div id=\"df-2540263a-ea6b-4b77-9f04-e5dafe7597d8\">\n",
              "    <div class=\"colab-df-container\">\n",
              "      <div>\n",
              "<style scoped>\n",
              "    .dataframe tbody tr th:only-of-type {\n",
              "        vertical-align: middle;\n",
              "    }\n",
              "\n",
              "    .dataframe tbody tr th {\n",
              "        vertical-align: top;\n",
              "    }\n",
              "\n",
              "    .dataframe thead th {\n",
              "        text-align: right;\n",
              "    }\n",
              "</style>\n",
              "<table border=\"1\" class=\"dataframe\">\n",
              "  <thead>\n",
              "    <tr style=\"text-align: right;\">\n",
              "      <th></th>\n",
              "      <th>summary</th>\n",
              "      <th>age</th>\n",
              "      <th>TB</th>\n",
              "      <th>DB</th>\n",
              "      <th>AAP</th>\n",
              "      <th>SgptAA</th>\n",
              "      <th>SgotAA</th>\n",
              "      <th>TP</th>\n",
              "      <th>ALBA</th>\n",
              "      <th>A/G ratio</th>\n",
              "      <th>target</th>\n",
              "      <th>gender</th>\n",
              "    </tr>\n",
              "  </thead>\n",
              "  <tbody>\n",
              "    <tr>\n",
              "      <th>0</th>\n",
              "      <td>count</td>\n",
              "      <td>29787</td>\n",
              "      <td>29368</td>\n",
              "      <td>29328</td>\n",
              "      <td>29061</td>\n",
              "      <td>29306</td>\n",
              "      <td>29378</td>\n",
              "      <td>29365</td>\n",
              "      <td>29332</td>\n",
              "      <td>29270</td>\n",
              "      <td>29787</td>\n",
              "      <td>29787</td>\n",
              "    </tr>\n",
              "    <tr>\n",
              "      <th>1</th>\n",
              "      <td>mean</td>\n",
              "      <td>44.12774028938799</td>\n",
              "      <td>3.3739274039771328</td>\n",
              "      <td>1.5282255864700809</td>\n",
              "      <td>289.4403496094422</td>\n",
              "      <td>81.38623490070293</td>\n",
              "      <td>111.46538225883315</td>\n",
              "      <td>6.480606163800408</td>\n",
              "      <td>3.1292342833764852</td>\n",
              "      <td>0.9430662794670305</td>\n",
              "      <td>0.7148420451874979</td>\n",
              "      <td>0.2619599153993353</td>\n",
              "    </tr>\n",
              "    <tr>\n",
              "      <th>2</th>\n",
              "      <td>stddev</td>\n",
              "      <td>15.98073118352127</td>\n",
              "      <td>6.255686815781422</td>\n",
              "      <td>2.871033624502167</td>\n",
              "      <td>239.00715547101862</td>\n",
              "      <td>181.89840787318502</td>\n",
              "      <td>279.95395225388336</td>\n",
              "      <td>1.0816572787527479</td>\n",
              "      <td>0.7924338262134138</td>\n",
              "      <td>0.3232188939854091</td>\n",
              "      <td>0.45149721948244803</td>\n",
              "      <td>0.4397083226284811</td>\n",
              "    </tr>\n",
              "    <tr>\n",
              "      <th>3</th>\n",
              "      <td>min</td>\n",
              "      <td>4</td>\n",
              "      <td>0.4</td>\n",
              "      <td>0.1</td>\n",
              "      <td>63</td>\n",
              "      <td>10</td>\n",
              "      <td>10</td>\n",
              "      <td>2.7</td>\n",
              "      <td>0.9</td>\n",
              "      <td>0.3</td>\n",
              "      <td>0</td>\n",
              "      <td>0</td>\n",
              "    </tr>\n",
              "    <tr>\n",
              "      <th>4</th>\n",
              "      <td>max</td>\n",
              "      <td>90</td>\n",
              "      <td>75.0</td>\n",
              "      <td>19.7</td>\n",
              "      <td>2110</td>\n",
              "      <td>2000</td>\n",
              "      <td>4929</td>\n",
              "      <td>9.6</td>\n",
              "      <td>5.5</td>\n",
              "      <td>2.8</td>\n",
              "      <td>1</td>\n",
              "      <td>1</td>\n",
              "    </tr>\n",
              "  </tbody>\n",
              "</table>\n",
              "</div>\n",
              "      <button class=\"colab-df-convert\" onclick=\"convertToInteractive('df-2540263a-ea6b-4b77-9f04-e5dafe7597d8')\"\n",
              "              title=\"Convert this dataframe to an interactive table.\"\n",
              "              style=\"display:none;\">\n",
              "        \n",
              "  <svg xmlns=\"http://www.w3.org/2000/svg\" height=\"24px\"viewBox=\"0 0 24 24\"\n",
              "       width=\"24px\">\n",
              "    <path d=\"M0 0h24v24H0V0z\" fill=\"none\"/>\n",
              "    <path d=\"M18.56 5.44l.94 2.06.94-2.06 2.06-.94-2.06-.94-.94-2.06-.94 2.06-2.06.94zm-11 1L8.5 8.5l.94-2.06 2.06-.94-2.06-.94L8.5 2.5l-.94 2.06-2.06.94zm10 10l.94 2.06.94-2.06 2.06-.94-2.06-.94-.94-2.06-.94 2.06-2.06.94z\"/><path d=\"M17.41 7.96l-1.37-1.37c-.4-.4-.92-.59-1.43-.59-.52 0-1.04.2-1.43.59L10.3 9.45l-7.72 7.72c-.78.78-.78 2.05 0 2.83L4 21.41c.39.39.9.59 1.41.59.51 0 1.02-.2 1.41-.59l7.78-7.78 2.81-2.81c.8-.78.8-2.07 0-2.86zM5.41 20L4 18.59l7.72-7.72 1.47 1.35L5.41 20z\"/>\n",
              "  </svg>\n",
              "      </button>\n",
              "      \n",
              "  <style>\n",
              "    .colab-df-container {\n",
              "      display:flex;\n",
              "      flex-wrap:wrap;\n",
              "      gap: 12px;\n",
              "    }\n",
              "\n",
              "    .colab-df-convert {\n",
              "      background-color: #E8F0FE;\n",
              "      border: none;\n",
              "      border-radius: 50%;\n",
              "      cursor: pointer;\n",
              "      display: none;\n",
              "      fill: #1967D2;\n",
              "      height: 32px;\n",
              "      padding: 0 0 0 0;\n",
              "      width: 32px;\n",
              "    }\n",
              "\n",
              "    .colab-df-convert:hover {\n",
              "      background-color: #E2EBFA;\n",
              "      box-shadow: 0px 1px 2px rgba(60, 64, 67, 0.3), 0px 1px 3px 1px rgba(60, 64, 67, 0.15);\n",
              "      fill: #174EA6;\n",
              "    }\n",
              "\n",
              "    [theme=dark] .colab-df-convert {\n",
              "      background-color: #3B4455;\n",
              "      fill: #D2E3FC;\n",
              "    }\n",
              "\n",
              "    [theme=dark] .colab-df-convert:hover {\n",
              "      background-color: #434B5C;\n",
              "      box-shadow: 0px 1px 3px 1px rgba(0, 0, 0, 0.15);\n",
              "      filter: drop-shadow(0px 1px 2px rgba(0, 0, 0, 0.3));\n",
              "      fill: #FFFFFF;\n",
              "    }\n",
              "  </style>\n",
              "\n",
              "      <script>\n",
              "        const buttonEl =\n",
              "          document.querySelector('#df-2540263a-ea6b-4b77-9f04-e5dafe7597d8 button.colab-df-convert');\n",
              "        buttonEl.style.display =\n",
              "          google.colab.kernel.accessAllowed ? 'block' : 'none';\n",
              "\n",
              "        async function convertToInteractive(key) {\n",
              "          const element = document.querySelector('#df-2540263a-ea6b-4b77-9f04-e5dafe7597d8');\n",
              "          const dataTable =\n",
              "            await google.colab.kernel.invokeFunction('convertToInteractive',\n",
              "                                                     [key], {});\n",
              "          if (!dataTable) return;\n",
              "\n",
              "          const docLinkHtml = 'Like what you see? Visit the ' +\n",
              "            '<a target=\"_blank\" href=https://colab.research.google.com/notebooks/data_table.ipynb>data table notebook</a>'\n",
              "            + ' to learn more about interactive tables.';\n",
              "          element.innerHTML = '';\n",
              "          dataTable['output_type'] = 'display_data';\n",
              "          await google.colab.output.renderOutput(dataTable, element);\n",
              "          const docLink = document.createElement('div');\n",
              "          docLink.innerHTML = docLinkHtml;\n",
              "          element.appendChild(docLink);\n",
              "        }\n",
              "      </script>\n",
              "    </div>\n",
              "  </div>\n",
              "  "
            ],
            "text/plain": [
              "  summary                age                  TB                  DB  \\\n",
              "0   count              29787               29368               29328   \n",
              "1    mean  44.12774028938799  3.3739274039771328  1.5282255864700809   \n",
              "2  stddev  15.98073118352127   6.255686815781422   2.871033624502167   \n",
              "3     min                  4                 0.4                 0.1   \n",
              "4     max                 90                75.0                19.7   \n",
              "\n",
              "                  AAP              SgptAA              SgotAA  \\\n",
              "0               29061               29306               29378   \n",
              "1   289.4403496094422   81.38623490070293  111.46538225883315   \n",
              "2  239.00715547101862  181.89840787318502  279.95395225388336   \n",
              "3                  63                  10                  10   \n",
              "4                2110                2000                4929   \n",
              "\n",
              "                   TP                ALBA           A/G ratio  \\\n",
              "0               29365               29332               29270   \n",
              "1   6.480606163800408  3.1292342833764852  0.9430662794670305   \n",
              "2  1.0816572787527479  0.7924338262134138  0.3232188939854091   \n",
              "3                 2.7                 0.9                 0.3   \n",
              "4                 9.6                 5.5                 2.8   \n",
              "\n",
              "                target              gender  \n",
              "0                29787               29787  \n",
              "1   0.7148420451874979  0.2619599153993353  \n",
              "2  0.45149721948244803  0.4397083226284811  \n",
              "3                    0                   0  \n",
              "4                    1                   1  "
            ]
          },
          "execution_count": 107,
          "metadata": {},
          "output_type": "execute_result"
        }
      ],
      "source": [
        "print('Data frame describe (string and numeric columns only):')\n",
        "df.describe().toPandas()"
      ]
    },
    {
      "cell_type": "markdown",
      "metadata": {
        "id": "tL9ZL1hjcL5-"
      },
      "source": [
        "For the nomerical features we will replace the null values with the mean of the feature:"
      ]
    },
    {
      "cell_type": "code",
      "execution_count": null,
      "metadata": {
        "colab": {
          "base_uri": "https://localhost:8080/"
        },
        "id": "tlvknA-WcPbJ",
        "outputId": "c167e2df-3671-4fce-cf11-3ba826a70578"
      },
      "outputs": [
        {
          "name": "stdout",
          "output_type": "stream",
          "text": [
            "+---+----+---+---+------+------+---+----+---------+------+------+\n",
            "|age|  TB| DB|AAP|SgptAA|SgotAA| TP|ALBA|A/G ratio|target|gender|\n",
            "+---+----+---+---+------+------+---+----+---------+------+------+\n",
            "| 65| 0.7|0.1|187|    16|    18|6.8| 3.3|      0.9|     1|     1|\n",
            "| 62|10.9|5.5|699|    64|   100|7.5| 3.2|     0.74|     1|     0|\n",
            "| 62| 7.3|4.1|490|    60|    68|7.0| 3.3|     0.89|     1|     0|\n",
            "| 58| 1.0|0.4|182|    14|    20|6.8| 3.4|      1.0|     1|     0|\n",
            "| 72| 3.9|2.0|195|    27|    59|7.3| 2.4|      0.4|     1|     0|\n",
            "+---+----+---+---+------+------+---+----+---------+------+------+\n",
            "only showing top 5 rows\n",
            "\n"
          ]
        }
      ],
      "source": [
        "# df_avg is a list of all the features mean or average values\n",
        "df_avg = df.select(mean('age'), mean('TB'), mean('DB'), mean('AAP'), mean('SgptAA'), mean('SgotAA'), mean('TP'), mean('ALBA'), mean('A/G ratio')).collect()\n",
        "\n",
        "#filling numeric column values with the mean or average value of that particular column\n",
        "df = df.fillna({'age':df_avg[0][0],'TB':df_avg[0][1],'DB':df_avg[0][2],'AAP':df_avg[0][3],'SgptAA':df_avg[0][4],'SgotAA':df_avg[0][5],'TP':df_avg[0][6],'ALBA':df_avg[0][7],'A/G ratio':df_avg[0][8]})\n",
        "df.show(5)"
      ]
    },
    {
      "cell_type": "code",
      "execution_count": null,
      "metadata": {
        "colab": {
          "background_save": true
        },
        "id": "r2sUtV98Gdhr",
        "outputId": "838d40e0-5494-4e2b-f7df-d9ae82e7a522"
      },
      "outputs": [
        {
          "data": {
            "text/html": [
              "\n",
              "  <div id=\"df-37b7f7d2-ac3f-4660-b391-081c94e5b7b1\">\n",
              "    <div class=\"colab-df-container\">\n",
              "      <div>\n",
              "<style scoped>\n",
              "    .dataframe tbody tr th:only-of-type {\n",
              "        vertical-align: middle;\n",
              "    }\n",
              "\n",
              "    .dataframe tbody tr th {\n",
              "        vertical-align: top;\n",
              "    }\n",
              "\n",
              "    .dataframe thead th {\n",
              "        text-align: right;\n",
              "    }\n",
              "</style>\n",
              "<table border=\"1\" class=\"dataframe\">\n",
              "  <thead>\n",
              "    <tr style=\"text-align: right;\">\n",
              "      <th></th>\n",
              "      <th>age</th>\n",
              "      <th>TB</th>\n",
              "      <th>DB</th>\n",
              "      <th>AAP</th>\n",
              "      <th>SgptAA</th>\n",
              "      <th>SgotAA</th>\n",
              "      <th>TP</th>\n",
              "      <th>ALBA</th>\n",
              "      <th>A/G ratio</th>\n",
              "      <th>target</th>\n",
              "      <th>gender</th>\n",
              "    </tr>\n",
              "  </thead>\n",
              "  <tbody>\n",
              "    <tr>\n",
              "      <th>0</th>\n",
              "      <td>0</td>\n",
              "      <td>0</td>\n",
              "      <td>0</td>\n",
              "      <td>0</td>\n",
              "      <td>0</td>\n",
              "      <td>0</td>\n",
              "      <td>0</td>\n",
              "      <td>0</td>\n",
              "      <td>0</td>\n",
              "      <td>0</td>\n",
              "      <td>0</td>\n",
              "    </tr>\n",
              "  </tbody>\n",
              "</table>\n",
              "</div>\n",
              "      <button class=\"colab-df-convert\" onclick=\"convertToInteractive('df-37b7f7d2-ac3f-4660-b391-081c94e5b7b1')\"\n",
              "              title=\"Convert this dataframe to an interactive table.\"\n",
              "              style=\"display:none;\">\n",
              "        \n",
              "  <svg xmlns=\"http://www.w3.org/2000/svg\" height=\"24px\"viewBox=\"0 0 24 24\"\n",
              "       width=\"24px\">\n",
              "    <path d=\"M0 0h24v24H0V0z\" fill=\"none\"/>\n",
              "    <path d=\"M18.56 5.44l.94 2.06.94-2.06 2.06-.94-2.06-.94-.94-2.06-.94 2.06-2.06.94zm-11 1L8.5 8.5l.94-2.06 2.06-.94-2.06-.94L8.5 2.5l-.94 2.06-2.06.94zm10 10l.94 2.06.94-2.06 2.06-.94-2.06-.94-.94-2.06-.94 2.06-2.06.94z\"/><path d=\"M17.41 7.96l-1.37-1.37c-.4-.4-.92-.59-1.43-.59-.52 0-1.04.2-1.43.59L10.3 9.45l-7.72 7.72c-.78.78-.78 2.05 0 2.83L4 21.41c.39.39.9.59 1.41.59.51 0 1.02-.2 1.41-.59l7.78-7.78 2.81-2.81c.8-.78.8-2.07 0-2.86zM5.41 20L4 18.59l7.72-7.72 1.47 1.35L5.41 20z\"/>\n",
              "  </svg>\n",
              "      </button>\n",
              "      \n",
              "  <style>\n",
              "    .colab-df-container {\n",
              "      display:flex;\n",
              "      flex-wrap:wrap;\n",
              "      gap: 12px;\n",
              "    }\n",
              "\n",
              "    .colab-df-convert {\n",
              "      background-color: #E8F0FE;\n",
              "      border: none;\n",
              "      border-radius: 50%;\n",
              "      cursor: pointer;\n",
              "      display: none;\n",
              "      fill: #1967D2;\n",
              "      height: 32px;\n",
              "      padding: 0 0 0 0;\n",
              "      width: 32px;\n",
              "    }\n",
              "\n",
              "    .colab-df-convert:hover {\n",
              "      background-color: #E2EBFA;\n",
              "      box-shadow: 0px 1px 2px rgba(60, 64, 67, 0.3), 0px 1px 3px 1px rgba(60, 64, 67, 0.15);\n",
              "      fill: #174EA6;\n",
              "    }\n",
              "\n",
              "    [theme=dark] .colab-df-convert {\n",
              "      background-color: #3B4455;\n",
              "      fill: #D2E3FC;\n",
              "    }\n",
              "\n",
              "    [theme=dark] .colab-df-convert:hover {\n",
              "      background-color: #434B5C;\n",
              "      box-shadow: 0px 1px 3px 1px rgba(0, 0, 0, 0.15);\n",
              "      filter: drop-shadow(0px 1px 2px rgba(0, 0, 0, 0.3));\n",
              "      fill: #FFFFFF;\n",
              "    }\n",
              "  </style>\n",
              "\n",
              "      <script>\n",
              "        const buttonEl =\n",
              "          document.querySelector('#df-37b7f7d2-ac3f-4660-b391-081c94e5b7b1 button.colab-df-convert');\n",
              "        buttonEl.style.display =\n",
              "          google.colab.kernel.accessAllowed ? 'block' : 'none';\n",
              "\n",
              "        async function convertToInteractive(key) {\n",
              "          const element = document.querySelector('#df-37b7f7d2-ac3f-4660-b391-081c94e5b7b1');\n",
              "          const dataTable =\n",
              "            await google.colab.kernel.invokeFunction('convertToInteractive',\n",
              "                                                     [key], {});\n",
              "          if (!dataTable) return;\n",
              "\n",
              "          const docLinkHtml = 'Like what you see? Visit the ' +\n",
              "            '<a target=\"_blank\" href=https://colab.research.google.com/notebooks/data_table.ipynb>data table notebook</a>'\n",
              "            + ' to learn more about interactive tables.';\n",
              "          element.innerHTML = '';\n",
              "          dataTable['output_type'] = 'display_data';\n",
              "          await google.colab.output.renderOutput(dataTable, element);\n",
              "          const docLink = document.createElement('div');\n",
              "          docLink.innerHTML = docLinkHtml;\n",
              "          element.appendChild(docLink);\n",
              "        }\n",
              "      </script>\n",
              "    </div>\n",
              "  </div>\n",
              "  "
            ],
            "text/plain": [
              "   age  TB  DB  AAP  SgptAA  SgotAA  TP  ALBA  A/G ratio  target  gender\n",
              "0    0   0   0    0       0       0   0     0          0       0       0"
            ]
          },
          "execution_count": 109,
          "metadata": {},
          "output_type": "execute_result"
        }
      ],
      "source": [
        "# Checking once again that we are not left with any null value\n",
        "string_columns = ['gender']\n",
        "numeric_columns = ['age','gender','TB','DB','AAP','SgptAA','SgotAA','TP','ALBA','A/G ratio','target']\n",
        "missing_values = {} \n",
        "\n",
        "for index, column in enumerate(df.columns):\n",
        "    if column in string_columns:    # check string columns with None and Null values\n",
        "        missing_count = df.filter(col(column).eqNullSafe(None) | col(column).isNull()).count()\n",
        "        missing_values.update({column:missing_count})\n",
        "    if column in numeric_columns:  # check zeroes, None, NaN\n",
        "        missing_count = df.where(col(column).isNull()).count()\n",
        "        missing_values.update({column:missing_count})\n",
        "missing_df = pd.DataFrame.from_dict([missing_values])\n",
        "missing_df"
      ]
    },
    {
      "cell_type": "markdown",
      "metadata": {
        "id": "H3z9vDJMGsWy"
      },
      "source": [
        "### **Exploratory Data Analysis - EDA**"
      ]
    },
    {
      "cell_type": "markdown",
      "metadata": {
        "id": "LKmvLhwsQxHC"
      },
      "source": [
        "### One-dimensional analysis"
      ]
    },
    {
      "cell_type": "markdown",
      "metadata": {
        "id": "X0aEsCmcQxrW"
      },
      "source": [
        "To perform a one-dimensional analysis, value ranges must be grouped for each parameter.\n",
        "\n",
        "Performing regressions and analyzes based on categorical variables has several notable advantages:\n",
        "\n",
        "\n",
        "*   Ability to detect non-linear relationships (such as age: it is possible that borrowers aged 35-45 are the most dangerous).\n",
        "*   Effect of extreme cases and treatment of missing values.\n",
        "*   The possibility to translate the results into a Scorecard.\n",
        "\n",
        "\n"
      ]
    },
    {
      "cell_type": "markdown",
      "metadata": {
        "id": "-0hnbi9MRfmR"
      },
      "source": [
        "The grouping is performed according to two considerations:\n",
        "\n",
        "*   Statistical consideration \n",
        "*   Business consideration\n",
        "\n",
        "\n",
        "After grouping into categories in each feature, a statistical test for the significance of the categories will be performed.\n",
        "And after dividing the feature into categories, the relationship between the risk characteristic (feature) and the failure component (target) will be examined.\n"
      ]
    },
    {
      "cell_type": "markdown",
      "metadata": {
        "id": "jcltKlIHSeE-"
      },
      "source": [
        "There are several types of connections that can be found:\n",
        "\n",
        "*   **Straight relationship** - the chance of failure increases with the increase in the value of the risk characteristic.\n",
        "*   **Inverse relationship** - the chance of failure decreases with the increase in the value of the risk characteristic.\n",
        "*   **Bidirectional relationship** - as you move away from the average value of the parameter, the chance of failure increases / decreases.\n",
        "*   **There is no relationship** - no clear trend is identified - a uniform distribution of the chance of failure at each value of the risk characteristic.\n",
        "\n"
      ]
    },
    {
      "cell_type": "markdown",
      "metadata": {
        "id": "T_o1131cItO5"
      },
      "source": [
        "### Segmentation"
      ]
    },
    {
      "cell_type": "code",
      "execution_count": null,
      "metadata": {
        "colab": {
          "background_save": true
        },
        "id": "amKtasPQI3-Z",
        "outputId": "f8c822d3-9ed7-463e-e7cb-aa94ccb4c967"
      },
      "outputs": [
        {
          "data": {
            "image/png": "[encoded data removed]",
            "text/plain": [
              "<Figure size 432x288 with 1 Axes>"
            ]
          },
          "metadata": {},
          "output_type": "display_data"
        },
        {
          "name": "stdout",
          "output_type": "stream",
          "text": [
            "Number of patients diagnosed with liver disease: 21293\n",
            "Number of patients not diagnosed with liver disease: 8494\n"
          ]
        }
      ],
      "source": [
        "# Group the DataFrame by the \"target\" column and count the occurrences of each value\n",
        "result_counts = df.groupBy(\"target\").agg(F.count(\"*\").alias(\"count\")).orderBy(\"target\")\n",
        "\n",
        "# Extract the counts of each value\n",
        "ld_count = result_counts.filter(result_counts.target == 1).select(\"count\").collect()[0][0]\n",
        "nld_count = result_counts.filter(result_counts.target == 0).select(\"count\").collect()[0][0]\n",
        "\n",
        "# Plot the counts using Matplotlib\n",
        "plt.bar([\"Liver Disease\", \"No Liver Disease\"], [ld_count, nld_count])\n",
        "plt.xlabel(\"Result\")\n",
        "plt.ylabel(\"Count\")\n",
        "plt.show()\n",
        "\n",
        "# Print the number of patients in each class\n",
        "print(\"Number of patients diagnosed with liver disease:\", ld_count)\n",
        "print(\"Number of patients not diagnosed with liver disease:\", nld_count)"
      ]
    },
    {
      "cell_type": "markdown",
      "metadata": {
        "id": "xbgLuuCcKGNp"
      },
      "source": [
        "Gender distribution check"
      ]
    },
    {
      "cell_type": "code",
      "execution_count": null,
      "metadata": {
        "colab": {
          "background_save": true
        },
        "id": "j_Lp-v-DJwqQ",
        "outputId": "23115fab-1341-4991-8b7b-7eff1c0c8a32"
      },
      "outputs": [
        {
          "data": {
            "image/png": "[encoded data removed]",
            "text/plain": [
              "<Figure size 432x288 with 1 Axes>"
            ]
          },
          "metadata": {},
          "output_type": "display_data"
        },
        {
          "name": "stdout",
          "output_type": "stream",
          "text": [
            "Number of patients that are male: 21984\n",
            "Number of patients that are female: 7803\n"
          ]
        }
      ],
      "source": [
        "# Group the DataFrame by the \"genderindexcolom\" column and count the occurrences of each value\n",
        "gender_counts = df.groupBy(\"gender\").agg(F.count(\"*\").alias(\"count\")).orderBy(\"gender\")\n",
        "\n",
        "# Extract the counts of each value\n",
        "male_count = gender_counts.filter(gender_counts.gender == 0).select(\"count\").collect()[0][0]\n",
        "female_count = gender_counts.filter(gender_counts.gender == 1).select(\"count\").collect()[0][0]\n",
        "\n",
        "# Plot the counts using Matplotlib\n",
        "plt.bar([\"Male\", \"Female\"], [male_count, female_count])\n",
        "plt.xlabel(\"Gender of the patient\")\n",
        "plt.ylabel(\"Count\")\n",
        "plt.show()\n",
        "\n",
        "# Print the number of patients in each class\n",
        "print(\"Number of patients that are male:\", male_count)\n",
        "print(\"Number of patients that are female:\", female_count)"
      ]
    },
    {
      "cell_type": "markdown",
      "metadata": {
        "id": "QHTxH479KWvQ"
      },
      "source": [
        "Grouping both distribution together"
      ]
    },
    {
      "cell_type": "code",
      "execution_count": null,
      "metadata": {
        "colab": {
          "background_save": true
        },
        "id": "VYctd1bVKW0B",
        "outputId": "484a25c3-1bb3-4f29-e414-ef7e352d4624"
      },
      "outputs": [
        {
          "data": {
            "image/png": "[encoded data removed]",
            "text/plain": [
              "<Figure size 864x576 with 1 Axes>"
            ]
          },
          "metadata": {},
          "output_type": "display_data"
        },
        {
          "name": "stdout",
          "output_type": "stream",
          "text": [
            "Number of male patients diagnosed with liver disease: 15740\n",
            "Number of male patients not diagnosed with liver disease: 6244\n",
            "Number of female patients diagnosed with liver disease: 5553\n",
            "Number of female patients not diagnosed with liver disease: 2250\n"
          ]
        }
      ],
      "source": [
        "# Group the DataFrame by the \"gender\" and \"target\" columns and count the occurrences of each value\n",
        "gender_result_counts = df.groupBy(\"gender\", \"target\").agg(F.count(\"*\").alias(\"count\")).orderBy(\"gender\")\n",
        "\n",
        "# Extract the counts of each value\n",
        "male_ld_count = gender_result_counts.filter((col(\"gender\") == 0) & (col(\"target\") == 1)).select(\"count\").collect()[0][0]\n",
        "male_nld_count = gender_result_counts.filter((col(\"gender\") == 0) & (col(\"target\") == 0)).select(\"count\").collect()[0][0]\n",
        "female_ld_count = gender_result_counts.filter((col(\"gender\") == 1) & (col(\"target\") == 1)).select(\"count\").collect()[0][0]\n",
        "female_nld_count = gender_result_counts.filter((col(\"gender\") == 1) & (col(\"target\") == 0)).select(\"count\").collect()[0][0]\n",
        "\n",
        "# Plot the results using Matplotlib\n",
        "plt.figure(figsize=(12, 8)) \n",
        "labels = ['Male with Liver Disease', 'Male without Liver Disease', 'Female with Liver Disease', 'Female without Liver Disease']\n",
        "counts = [male_ld_count, male_nld_count, female_ld_count, female_nld_count]\n",
        "plt.bar(labels, counts)\n",
        "plt.xlabel(\"Gender and Liver Disease\")\n",
        "plt.ylabel(\"Count\")\n",
        "plt.show()\n",
        "\n",
        "# Print the number of patients in each class\n",
        "print(\"Number of male patients diagnosed with liver disease:\", male_ld_count)\n",
        "print(\"Number of male patients not diagnosed with liver disease:\", male_nld_count)\n",
        "print(\"Number of female patients diagnosed with liver disease:\", female_ld_count)\n",
        "print(\"Number of female patients not diagnosed with liver disease:\", female_nld_count)"
      ]
    },
    {
      "cell_type": "markdown",
      "metadata": {
        "id": "wlL8ZrRVJe9v"
      },
      "source": [
        "From the analysis above, we can see that there are much more males than females in the data.\n",
        "\n",
        "We want to check if there is an impact on the prediction if a patient has liver disease or not for each of the features"
      ]
    },
    {
      "cell_type": "markdown",
      "metadata": {
        "id": "uU2WV-iJTEuS"
      },
      "source": [
        "### Boxplots for each feature and the impact of spliting the gender into female and male"
      ]
    },
    {
      "cell_type": "code",
      "execution_count": null,
      "metadata": {
        "colab": {
          "background_save": true
        },
        "id": "_iTVHj2ATCel",
        "outputId": "420b23e6-f8b7-463a-aeac-25053000e954"
      },
      "outputs": [
        {
          "data": {
            "image/png": "[encoded data removed]",
            "text/plain": [
              "<Figure size 763.5x360 with 1 Axes>"
            ]
          },
          "metadata": {},
          "output_type": "display_data"
        }
      ],
      "source": [
        "# Box plot for age \n",
        "sns.catplot(data=df.toPandas(), x=\"target\", y=\"age\", hue=\"gender\", kind=\"box\", aspect=2)\n",
        "plt.title(\"Boxplot for target vs age and gender\")\n",
        "plt.show()"
      ]
    },
    {
      "cell_type": "code",
      "execution_count": null,
      "metadata": {
        "colab": {
          "background_save": true
        },
        "id": "mYPJ28rkTCg5",
        "outputId": "6cfc9918-3151-4d7c-94c7-28ea06d8603a"
      },
      "outputs": [
        {
          "data": {
            "image/png": "[encoded data removed]",
            "text/plain": [
              "<Figure size 763.5x360 with 1 Axes>"
            ]
          },
          "metadata": {},
          "output_type": "display_data"
        }
      ],
      "source": [
        "# Box plot for TB \n",
        "sns.catplot(data=df.toPandas(), x=\"target\", y=\"TB\", hue=\"gender\", kind=\"box\", aspect=2)\n",
        "plt.title(\"Boxplot for target vs TB and gender\")\n",
        "plt.show()"
      ]
    },
    {
      "cell_type": "code",
      "execution_count": null,
      "metadata": {
        "colab": {
          "background_save": true
        },
        "id": "j1o3LNGYTCjY",
        "outputId": "764de250-b5e1-47db-92fe-9b3b5f05b776"
      },
      "outputs": [
        {
          "data": {
            "image/png": "[encoded data removed]",
            "text/plain": [
              "<Figure size 763.5x360 with 1 Axes>"
            ]
          },
          "metadata": {},
          "output_type": "display_data"
        }
      ],
      "source": [
        "# Box plot for DB \n",
        "sns.catplot(data=df.toPandas(), x=\"target\", y=\"DB\", hue=\"gender\", kind=\"box\", aspect=2)\n",
        "plt.title(\"Boxplot for target vs DB and gender\")\n",
        "plt.show()"
      ]
    },
    {
      "cell_type": "code",
      "execution_count": null,
      "metadata": {
        "colab": {
          "background_save": true
        },
        "id": "LF3hGbQeTCl0",
        "outputId": "f848adae-b14d-40e7-e276-2d992f50f2c9"
      },
      "outputs": [
        {
          "data": {
            "image/png": "[encoded data removed]",
            "text/plain": [
              "<Figure size 763.5x360 with 1 Axes>"
            ]
          },
          "metadata": {},
          "output_type": "display_data"
        }
      ],
      "source": [
        "# Box plot for AAP \n",
        "sns.catplot(data=df.toPandas(), x=\"target\", y=\"AAP\", hue=\"gender\", kind=\"box\", aspect=2)\n",
        "plt.title(\"Boxplot for target vs AAP and gender\")\n",
        "plt.show()"
      ]
    },
    {
      "cell_type": "code",
      "execution_count": null,
      "metadata": {
        "colab": {
          "background_save": true
        },
        "id": "O61G71rgTCoQ",
        "outputId": "21396da4-193b-4fa6-d3a2-3bdcaef9464c"
      },
      "outputs": [
        {
          "data": {
            "image/png": "[encoded data removed]",
            "text/plain": [
              "<Figure size 763.5x360 with 1 Axes>"
            ]
          },
          "metadata": {},
          "output_type": "display_data"
        }
      ],
      "source": [
        "# Box plot for SgptAA \n",
        "sns.catplot(data=df.toPandas(), x=\"target\", y=\"SgptAA\", hue=\"gender\", kind=\"box\", aspect=2)\n",
        "plt.title(\"Boxplot for target vs SgptAA and gender\")\n",
        "plt.show()"
      ]
    },
    {
      "cell_type": "code",
      "execution_count": null,
      "metadata": {
        "colab": {
          "background_save": true
        },
        "id": "PgW_hVB-TCq1",
        "outputId": "babb60f7-aeff-4b50-e4af-5626af4f5bb9"
      },
      "outputs": [
        {
          "data": {
            "image/png": "[encoded data removed]",
            "text/plain": [
              "<Figure size 763.5x360 with 1 Axes>"
            ]
          },
          "metadata": {},
          "output_type": "display_data"
        }
      ],
      "source": [
        "# Box plot for SgotAA \n",
        "sns.catplot(data=df.toPandas(), x=\"target\", y=\"SgotAA\", hue=\"gender\", kind=\"box\", aspect=2)\n",
        "plt.title(\"Boxplot for target vs SgotAA and gender\")\n",
        "plt.show()"
      ]
    },
    {
      "cell_type": "code",
      "execution_count": null,
      "metadata": {
        "colab": {
          "background_save": true
        },
        "id": "gwMky2O5TCtp",
        "outputId": "336f0a0a-8f0e-4eef-db66-7352ffed3f7a"
      },
      "outputs": [
        {
          "data": {
            "image/png": "[encoded data removed]",
            "text/plain": [
              "<Figure size 763.5x360 with 1 Axes>"
            ]
          },
          "metadata": {},
          "output_type": "display_data"
        }
      ],
      "source": [
        "# Box plot for TP \n",
        "sns.catplot(data=df.toPandas(), x=\"target\", y=\"TP\", hue=\"gender\", kind=\"box\", aspect=2)\n",
        "plt.title(\"Boxplot for target vs TP and gender\")\n",
        "plt.show()"
      ]
    },
    {
      "cell_type": "code",
      "execution_count": null,
      "metadata": {
        "colab": {
          "background_save": true
        },
        "id": "7LSxgUc9TJpf",
        "outputId": "0bf42558-b765-4ce9-db8c-14647b42c6bf"
      },
      "outputs": [
        {
          "data": {
            "image/png": "[encoded data removed]",
            "text/plain": [
              "<Figure size 763.5x360 with 1 Axes>"
            ]
          },
          "metadata": {},
          "output_type": "display_data"
        }
      ],
      "source": [
        "# Box plot for ALBA \n",
        "sns.catplot(data=df.toPandas(), x=\"target\", y=\"ALBA\", hue=\"gender\", kind=\"box\", aspect=2)\n",
        "plt.title(\"Boxplot for target vs ALBA and gender\")\n",
        "plt.show()"
      ]
    },
    {
      "cell_type": "code",
      "execution_count": null,
      "metadata": {
        "colab": {
          "background_save": true
        },
        "id": "hpno-M5lTJxi",
        "outputId": "31f1c045-f8fb-49ef-b314-c809aee9ac61"
      },
      "outputs": [
        {
          "data": {
            "image/png": "[encoded data removed]",
            "text/plain": [
              "<Figure size 763.5x360 with 1 Axes>"
            ]
          },
          "metadata": {},
          "output_type": "display_data"
        }
      ],
      "source": [
        "# Box plot for A/G ratio \n",
        "sns.catplot(data=df.toPandas(), x=\"target\", y=\"A/G ratio\", hue=\"gender\", kind=\"box\", aspect=2)\n",
        "plt.title(\"Boxplot for target vs A/G ratio and gender\")\n",
        "plt.show()"
      ]
    },
    {
      "cell_type": "markdown",
      "metadata": {
        "id": "6LIzANNcUBWr"
      },
      "source": [
        "From the boxplots above of all the features we can see that there isn't a significant impact of the gender feature. \n",
        "\n",
        "Therefore, we will keep the data as is and won't split it into female and male."
      ]
    },
    {
      "cell_type": "markdown",
      "metadata": {
        "id": "3SSE5aeBVaqb"
      },
      "source": [
        "## Univariate analysis of explanatory variables"
      ]
    },
    {
      "cell_type": "markdown",
      "metadata": {
        "id": "mMA59U6PVe7v"
      },
      "source": [
        "In order to determine which variables will enter the ML model, two main parameters in each variable were tested in a one-dimensional analysis:\n",
        "\n",
        "1. The amount of observations in each category.\n",
        "2. The failure rates in each category.\n",
        "\n",
        "According to the two parameters above, the categories were built in each variable and they were grouped/united so as to contain the amount of observations and the amount of essential failures.\n",
        "\n",
        "Variables in which there was a good distinction in the failure rates, i.e. a continuous decrease/increase in the failure rates between the categories and a non-negligible amount of observations, were then tested in the ML models to examine their significance and the degree of correlation between them."
      ]
    },
    {
      "cell_type": "markdown",
      "metadata": {
        "id": "_ikXBpgdh0Vx"
      },
      "source": [
        "### Features histograms"
      ]
    },
    {
      "cell_type": "code",
      "execution_count": null,
      "metadata": {
        "colab": {
          "background_save": true
        },
        "id": "n5Vr7WEch0c6",
        "outputId": "eb267787-c834-44a5-a2ef-16a1b77de783"
      },
      "outputs": [
        {
          "data": {
            "text/plain": [
              "<Figure size 2160x2160 with 0 Axes>"
            ]
          },
          "metadata": {},
          "output_type": "display_data"
        },
        {
          "data": {
            "image/png": "[encoded data removed]",
            "text/plain": [
              "<Figure size 1080x1080 with 12 Axes>"
            ]
          },
          "metadata": {},
          "output_type": "display_data"
        }
      ],
      "source": [
        "plt.figure(figsize=(30,30))\n",
        "df.toPandas().hist(figsize=(15,15))\n",
        "plt.title(\"Features histograms\")\n",
        "plt.show()"
      ]
    },
    {
      "cell_type": "markdown",
      "metadata": {
        "id": "5T0Yak0VU_CG"
      },
      "source": [
        "### **Age** one-dimensional analysis"
      ]
    },
    {
      "cell_type": "code",
      "execution_count": null,
      "metadata": {
        "colab": {
          "background_save": true
        },
        "id": "wm46hbXdYQQU",
        "outputId": "aec50483-2a69-4b28-86b8-c2f86b39602f"
      },
      "outputs": [
        {
          "name": "stdout",
          "output_type": "stream",
          "text": [
            "+---+----+---+---+------+------+---+----+---------+------+------+---------+\n",
            "|age|  TB| DB|AAP|SgptAA|SgotAA| TP|ALBA|A/G ratio|target|gender|age_group|\n",
            "+---+----+---+---+------+------+---+----+---------+------+------+---------+\n",
            "| 65| 0.7|0.1|187|    16|    18|6.8| 3.3|      0.9|     1|     1|      6.0|\n",
            "| 62|10.9|5.5|699|    64|   100|7.5| 3.2|     0.74|     1|     0|      6.0|\n",
            "| 62| 7.3|4.1|490|    60|    68|7.0| 3.3|     0.89|     1|     0|      6.0|\n",
            "| 58| 1.0|0.4|182|    14|    20|6.8| 3.4|      1.0|     1|     0|      5.0|\n",
            "| 72| 3.9|2.0|195|    27|    59|7.3| 2.4|      0.4|     1|     0|      7.0|\n",
            "+---+----+---+---+------+------+---+----+---------+------+------+---------+\n",
            "only showing top 5 rows\n",
            "\n"
          ]
        }
      ],
      "source": [
        "# Define age bins\n",
        "age_splits = [0,10,20,30,40,50,60,70,80, float('inf')]\n",
        "age_labels = ['0-10','11-20','21-30','31-40','41-50','51-60','61-70','71-80','81-90','90+']\n",
        "\n",
        "# Create Bucketizer object\n",
        "bucketizer = Bucketizer(splits=age_splits, inputCol=\"age\", outputCol=\"age_group\")\n",
        "\n",
        "# Apply bucketizer to dataframe\n",
        "df = bucketizer.transform(df)\n",
        "\n",
        "# Convert age group to string type\n",
        "df = df.withColumn(\"age_group\", df[\"age_group\"].cast(\"string\"))\n",
        "\n",
        "# Replace null values with \"Unknown\"\n",
        "df = df.fillna({'age_group': 'Unknown'})\n",
        "\n",
        "# Show DataFrame\n",
        "df.show(5)"
      ]
    },
    {
      "cell_type": "code",
      "execution_count": null,
      "metadata": {
        "colab": {
          "background_save": true
        },
        "id": "qXUfQKiEBHye",
        "outputId": "cbf30a9e-4c5d-4aad-be44-fdb7cb0bc46b"
      },
      "outputs": [
        {
          "name": "stdout",
          "output_type": "stream",
          "text": [
            "+---------+----------------------+------------------+\n",
            "|age_group|amount of observations|amount of failures|\n",
            "+---------+----------------------+------------------+\n",
            "|      0.0|                   268|               194|\n",
            "|      1.0|                  1553|              1108|\n",
            "|      2.0|                  3789|              2686|\n",
            "|      3.0|                  6086|              4326|\n",
            "|      4.0|                  6978|              5022|\n",
            "|      5.0|                  5028|              3591|\n",
            "|      6.0|                  4152|              2969|\n",
            "|      7.0|                  1788|              1295|\n",
            "|      8.0|                   145|               102|\n",
            "+---------+----------------------+------------------+\n",
            "\n"
          ]
        }
      ],
      "source": [
        "df_age=df.groupby('age_group').agg(count('*').alias('amount of observations'),\\\n",
        "                                   sum('target').alias('amount of failures')).orderBy('age_group')\n",
        "df_age.show()"
      ]
    },
    {
      "cell_type": "code",
      "execution_count": null,
      "metadata": {
        "colab": {
          "background_save": true
        },
        "id": "y52fNfznHVkh",
        "outputId": "a2950710-3030-43e4-c15a-e12748c65905"
      },
      "outputs": [
        {
          "name": "stdout",
          "output_type": "stream",
          "text": [
            "+---------+----------------------+------------------+------------+-----------------+\n",
            "|age_group|amount of observations|amount of failures|failure rate|observations rate|\n",
            "+---------+----------------------+------------------+------------+-----------------+\n",
            "|      0.0|                   268|               194|       72.39|             0.91|\n",
            "|      1.0|                  1553|              1108|       71.35|              5.2|\n",
            "|      2.0|                  3789|              2686|       70.89|            12.61|\n",
            "|      3.0|                  6086|              4326|       71.08|            20.32|\n",
            "|      4.0|                  6978|              5022|       71.97|            23.59|\n",
            "|      5.0|                  5028|              3591|       71.42|            16.86|\n",
            "|      6.0|                  4152|              2969|       71.51|            13.94|\n",
            "|      7.0|                  1788|              1295|       72.43|             6.08|\n",
            "|      8.0|                   145|               102|       70.34|             0.48|\n",
            "+---------+----------------------+------------------+------------+-----------------+\n",
            "\n"
          ]
        }
      ],
      "source": [
        "from pyspark.sql.window import Window\n",
        "\n",
        "df_age.withColumn('failure rate', func.round(((df_age['amount of failures']/df_age['amount of observations']) * 100),2))\\\n",
        "      .withColumn('observations rate', func.round((F.col('amount of failures')/F.sum('amount of failures').over(Window.partitionBy()) * 100),2)).show()"
      ]
    },
    {
      "cell_type": "markdown",
      "metadata": {
        "id": "DCEHMYrhM9f7"
      },
      "source": [
        "We can see that there is no clear trend in the data that can identify a the relations between age and the target value.\n"
      ]
    },
    {
      "cell_type": "markdown",
      "metadata": {
        "id": "tNZn975ENrKm"
      },
      "source": [
        "### **TB** one-dimensional analysis"
      ]
    },
    {
      "cell_type": "code",
      "execution_count": null,
      "metadata": {
        "colab": {
          "background_save": true
        },
        "id": "nneRpRICNrSW",
        "outputId": "bdb9bc01-d662-4888-8ac6-5df65fdde715"
      },
      "outputs": [
        {
          "name": "stdout",
          "output_type": "stream",
          "text": [
            "+---+----+---+---+------+------+---+----+---------+------+------+---------+--------+\n",
            "|age|  TB| DB|AAP|SgptAA|SgotAA| TP|ALBA|A/G ratio|target|gender|age_group|TB_group|\n",
            "+---+----+---+---+------+------+---+----+---------+------+------+---------+--------+\n",
            "| 65| 0.7|0.1|187|    16|    18|6.8| 3.3|      0.9|     1|     1|      6.0|     0.0|\n",
            "| 62|10.9|5.5|699|    64|   100|7.5| 3.2|     0.74|     1|     0|      6.0|     1.0|\n",
            "| 62| 7.3|4.1|490|    60|    68|7.0| 3.3|     0.89|     1|     0|      6.0|     1.0|\n",
            "| 58| 1.0|0.4|182|    14|    20|6.8| 3.4|      1.0|     1|     0|      5.0|     0.0|\n",
            "| 72| 3.9|2.0|195|    27|    59|7.3| 2.4|      0.4|     1|     0|      7.0|     1.0|\n",
            "+---+----+---+---+------+------+---+----+---------+------+------+---------+--------+\n",
            "only showing top 5 rows\n",
            "\n"
          ]
        }
      ],
      "source": [
        "# Define TB bins\n",
        "TB_splits = [0.4,1.2, float('inf')]\n",
        "TB_labels = ['0.4-1.2','1.3+']\n",
        "\n",
        "# Create Bucketizer object\n",
        "bucketizer = Bucketizer(splits=TB_splits, inputCol=\"TB\", outputCol=\"TB_group\")\n",
        "\n",
        "# Apply bucketizer to dataframe\n",
        "df = bucketizer.transform(df)\n",
        "\n",
        "# Convert TB group to string type\n",
        "df = df.withColumn(\"TB_group\", df[\"TB_group\"].cast(\"string\"))\n",
        "\n",
        "# Replace null values with \"Unknown\"\n",
        "df = df.fillna({'TB_group': 'Unknown'})\n",
        "\n",
        "# Show DataFrame\n",
        "df.show(5)"
      ]
    },
    {
      "cell_type": "code",
      "execution_count": null,
      "metadata": {
        "colab": {
          "background_save": true
        },
        "id": "rQOzdypJNrUj",
        "outputId": "9714803a-57cb-4dad-b3f5-66c3f57cda58"
      },
      "outputs": [
        {
          "name": "stdout",
          "output_type": "stream",
          "text": [
            "+--------+----------------------+------------------+\n",
            "|TB_group|amount of observations|amount of failures|\n",
            "+--------+----------------------+------------------+\n",
            "|     0.0|                 16218|              9743|\n",
            "|     1.0|                 13569|             11550|\n",
            "+--------+----------------------+------------------+\n",
            "\n"
          ]
        }
      ],
      "source": [
        "df_TB=df.groupby('TB_group').agg(count('*').alias('amount of observations'),\\\n",
        "                                 sum('target').alias('amount of failures')).orderBy('TB_group')\n",
        "df_TB.show()"
      ]
    },
    {
      "cell_type": "code",
      "execution_count": null,
      "metadata": {
        "colab": {
          "background_save": true
        },
        "id": "aMtSMwncNrXK",
        "outputId": "248ae733-bd2a-41cb-cf48-6a5e4e9acfb3"
      },
      "outputs": [
        {
          "name": "stdout",
          "output_type": "stream",
          "text": [
            "+--------+----------------------+------------------+------------+-----------------+\n",
            "|TB_group|amount of observations|amount of failures|failure rate|observations rate|\n",
            "+--------+----------------------+------------------+------------+-----------------+\n",
            "|     0.0|                 16218|              9743|       60.08|            45.76|\n",
            "|     1.0|                 13569|             11550|       85.12|            54.24|\n",
            "+--------+----------------------+------------------+------------+-----------------+\n",
            "\n"
          ]
        }
      ],
      "source": [
        "from pyspark.sql.window import Window\n",
        "\n",
        "df_TB.withColumn('failure rate', func.round(((df_TB['amount of failures']/df_TB['amount of observations']) * 100),2))\\\n",
        "      .withColumn('observations rate', func.round((F.col('amount of failures')/F.sum('amount of failures').over(Window.partitionBy()) * 100),2)).show()"
      ]
    },
    {
      "cell_type": "markdown",
      "metadata": {
        "id": "sEG6ifaSRi4L"
      },
      "source": [
        "We can see a straight relationship between TB and the target variable. <br>\n",
        "When TB is greater than 1.2 (not in the normal limit) the chances to diagnose liver disease are much higher."
      ]
    },
    {
      "cell_type": "markdown",
      "metadata": {
        "id": "vzhEWEwvSQYV"
      },
      "source": [
        "### **DB** one-dimensional analysis"
      ]
    },
    {
      "cell_type": "code",
      "execution_count": null,
      "metadata": {
        "colab": {
          "background_save": true
        },
        "id": "8ufskqfeSP6X",
        "outputId": "f6d7674c-2642-4657-ec94-7506cacf1482"
      },
      "outputs": [
        {
          "name": "stdout",
          "output_type": "stream",
          "text": [
            "+---+----+---+---+------+------+---+----+---------+------+------+---------+--------+--------+\n",
            "|age|  TB| DB|AAP|SgptAA|SgotAA| TP|ALBA|A/G ratio|target|gender|age_group|TB_group|DB_group|\n",
            "+---+----+---+---+------+------+---+----+---------+------+------+---------+--------+--------+\n",
            "| 65| 0.7|0.1|187|    16|    18|6.8| 3.3|      0.9|     1|     1|      6.0|     0.0|     0.0|\n",
            "| 62|10.9|5.5|699|    64|   100|7.5| 3.2|     0.74|     1|     0|      6.0|     1.0|     2.0|\n",
            "| 62| 7.3|4.1|490|    60|    68|7.0| 3.3|     0.89|     1|     0|      6.0|     1.0|     2.0|\n",
            "| 58| 1.0|0.4|182|    14|    20|6.8| 3.4|      1.0|     1|     0|      5.0|     0.0|     1.0|\n",
            "| 72| 3.9|2.0|195|    27|    59|7.3| 2.4|      0.4|     1|     0|      7.0|     1.0|     2.0|\n",
            "+---+----+---+---+------+------+---+----+---------+------+------+---------+--------+--------+\n",
            "only showing top 5 rows\n",
            "\n"
          ]
        }
      ],
      "source": [
        "# Define DB bins\n",
        "DB_splits = [0.1,0.3,1.6, float('inf')]\n",
        "DB_labels = ['0.1-0.3','0.4-1.6','1.7+']\n",
        "\n",
        "# Create Bucketizer object\n",
        "bucketizer = Bucketizer(splits=DB_splits, inputCol=\"DB\", outputCol=\"DB_group\")\n",
        "\n",
        "# Apply bucketizer to dataframe\n",
        "df = bucketizer.transform(df)\n",
        "\n",
        "# Convert DB group to string type\n",
        "df = df.withColumn(\"DB_group\", df[\"DB_group\"].cast(\"string\"))\n",
        "\n",
        "# Replace null values with \"Unknown\"\n",
        "df = df.fillna({'DB_group': 'Unknown'})\n",
        "\n",
        "# Show DataFrame\n",
        "df.show(5)"
      ]
    },
    {
      "cell_type": "code",
      "execution_count": null,
      "metadata": {
        "colab": {
          "background_save": true
        },
        "id": "5dw2lkpWSS_i",
        "outputId": "24f2df8c-559d-42da-c712-70c6f9b59680"
      },
      "outputs": [
        {
          "name": "stdout",
          "output_type": "stream",
          "text": [
            "+--------+----------------------+------------------+\n",
            "|DB_group|amount of observations|amount of failures|\n",
            "+--------+----------------------+------------------+\n",
            "|     0.0|                 12735|              7478|\n",
            "|     1.0|                 10739|              7795|\n",
            "|     2.0|                  6313|              6020|\n",
            "+--------+----------------------+------------------+\n",
            "\n"
          ]
        }
      ],
      "source": [
        "df_DB=df.groupby('DB_group').agg(count('*').alias('amount of observations'),\\\n",
        "                                 sum('target').alias('amount of failures')).orderBy('DB_group')\n",
        "df_DB.show()"
      ]
    },
    {
      "cell_type": "code",
      "execution_count": null,
      "metadata": {
        "colab": {
          "background_save": true
        },
        "id": "OErt54DFSTBn",
        "outputId": "90a471e5-688e-4ef4-edab-26b0c0317286"
      },
      "outputs": [
        {
          "name": "stdout",
          "output_type": "stream",
          "text": [
            "+--------+----------------------+------------------+------------+-----------------+\n",
            "|DB_group|amount of observations|amount of failures|failure rate|observations rate|\n",
            "+--------+----------------------+------------------+------------+-----------------+\n",
            "|     0.0|                 12735|              7478|       58.72|            35.12|\n",
            "|     1.0|                 10739|              7795|       72.59|            36.61|\n",
            "|     2.0|                  6313|              6020|       95.36|            28.27|\n",
            "+--------+----------------------+------------------+------------+-----------------+\n",
            "\n"
          ]
        }
      ],
      "source": [
        "df_DB.withColumn('failure rate', func.round(((df_DB['amount of failures']/df_DB['amount of observations']) * 100),2))\\\n",
        "      .withColumn('observations rate', func.round((F.col('amount of failures')/F.sum('amount of failures').over(Window.partitionBy()) * 100),2)).show()"
      ]
    },
    {
      "cell_type": "markdown",
      "metadata": {
        "id": "TLZEeUetUCWs"
      },
      "source": [
        "We can see a good distinction in the diagnostic liver disease rates.<br>\n",
        "There is a clear increase in the diagnostic of having a liver disease whith the increse of DB levels and a non-negligible amount of observations"
      ]
    },
    {
      "cell_type": "markdown",
      "metadata": {
        "id": "AjCSpwUVUU9F"
      },
      "source": [
        "### **AAP** one-dimensional analysis"
      ]
    },
    {
      "cell_type": "code",
      "execution_count": null,
      "metadata": {
        "colab": {
          "background_save": true
        },
        "id": "6hdJWhD6UVEQ",
        "outputId": "116067dd-fc05-4285-a845-bec14976a37f"
      },
      "outputs": [
        {
          "name": "stdout",
          "output_type": "stream",
          "text": [
            "+---+----+---+---+------+------+---+----+---------+------+------+---------+--------+--------+---------+\n",
            "|age|  TB| DB|AAP|SgptAA|SgotAA| TP|ALBA|A/G ratio|target|gender|age_group|TB_group|DB_group|AAP_group|\n",
            "+---+----+---+---+------+------+---+----+---------+------+------+---------+--------+--------+---------+\n",
            "| 65| 0.7|0.1|187|    16|    18|6.8| 3.3|      0.9|     1|     1|      6.0|     0.0|     0.0|      1.0|\n",
            "| 62|10.9|5.5|699|    64|   100|7.5| 3.2|     0.74|     1|     0|      6.0|     1.0|     2.0|      1.0|\n",
            "| 62| 7.3|4.1|490|    60|    68|7.0| 3.3|     0.89|     1|     0|      6.0|     1.0|     2.0|      1.0|\n",
            "| 58| 1.0|0.4|182|    14|    20|6.8| 3.4|      1.0|     1|     0|      5.0|     0.0|     1.0|      1.0|\n",
            "| 72| 3.9|2.0|195|    27|    59|7.3| 2.4|      0.4|     1|     0|      7.0|     1.0|     2.0|      1.0|\n",
            "+---+----+---+---+------+------+---+----+---------+------+------+---------+--------+--------+---------+\n",
            "only showing top 5 rows\n",
            "\n"
          ]
        }
      ],
      "source": [
        "# Define AAP bins\n",
        "AAP_splits = [63,147, float('inf')]\n",
        "AAP_labels = ['63-147','147+']\n",
        "\n",
        "# Create Bucketizer object\n",
        "bucketizer = Bucketizer(splits=AAP_splits, inputCol=\"AAP\", outputCol=\"AAP_group\")\n",
        "\n",
        "# Apply bucketizer to dataframe\n",
        "df = bucketizer.transform(df)\n",
        "\n",
        "# Convert AAP group to string type\n",
        "df = df.withColumn(\"AAP_group\", df[\"AAP_group\"].cast(\"string\"))\n",
        "\n",
        "# Replace null values with \"Unknown\"\n",
        "df = df.fillna({'AAP_group': 'Unknown'})\n",
        "\n",
        "# Show DataFrame\n",
        "df.show(5)"
      ]
    },
    {
      "cell_type": "code",
      "execution_count": null,
      "metadata": {
        "colab": {
          "background_save": true
        },
        "id": "Gp-rf6qqUVGg",
        "outputId": "b64a5911-343f-48b0-f65a-997abd19e880"
      },
      "outputs": [
        {
          "name": "stdout",
          "output_type": "stream",
          "text": [
            "+---------+----------------------+------------------+\n",
            "|AAP_group|amount of observations|amount of failures|\n",
            "+---------+----------------------+------------------+\n",
            "|      0.0|                  2726|              1558|\n",
            "|      1.0|                 27061|             19735|\n",
            "+---------+----------------------+------------------+\n",
            "\n"
          ]
        }
      ],
      "source": [
        "df_AAP=df.groupby('AAP_group').agg(count('*').alias('amount of observations'),\\\n",
        "                                   sum('target').alias('amount of failures')).orderBy('AAP_group')\n",
        "df_AAP.show()"
      ]
    },
    {
      "cell_type": "code",
      "execution_count": null,
      "metadata": {
        "colab": {
          "background_save": true
        },
        "id": "ghBZCI1AUVI6",
        "outputId": "05f7ff93-c779-4202-da10-a5787e929a1a"
      },
      "outputs": [
        {
          "name": "stdout",
          "output_type": "stream",
          "text": [
            "+---------+----------------------+------------------+------------+-----------------+\n",
            "|AAP_group|amount of observations|amount of failures|failure rate|observations rate|\n",
            "+---------+----------------------+------------------+------------+-----------------+\n",
            "|      0.0|                  2726|              1558|       57.15|             7.32|\n",
            "|      1.0|                 27061|             19735|       72.93|            92.68|\n",
            "+---------+----------------------+------------------+------------+-----------------+\n",
            "\n"
          ]
        }
      ],
      "source": [
        "df_AAP.withColumn('failure rate', func.round(((df_AAP['amount of failures']/df_AAP['amount of observations']) * 100),2))\\\n",
        "      .withColumn('observations rate', func.round((F.col('amount of failures')/F.sum('amount of failures').over(Window.partitionBy()) * 100),2)).show(100)"
      ]
    },
    {
      "cell_type": "markdown",
      "metadata": {
        "id": "8gbsKe4IV5FG"
      },
      "source": [
        "We can see a straight relationship between AAP and the target variable. <br>\n",
        "When AAP is greater than 147 (not in the normal limit) the chances to diagnose liver disease are much higher."
      ]
    },
    {
      "cell_type": "markdown",
      "metadata": {
        "id": "LdYSkTQHV99K"
      },
      "source": [
        "### **SgptAA** one-dimensional analysis"
      ]
    },
    {
      "cell_type": "code",
      "execution_count": null,
      "metadata": {
        "colab": {
          "background_save": true
        },
        "id": "55AQZr2bV-EZ",
        "outputId": "ebd7ae96-dd27-4b29-b03e-d9728e39d966"
      },
      "outputs": [
        {
          "name": "stdout",
          "output_type": "stream",
          "text": [
            "+---+----+---+---+------+------+---+----+---------+------+------+---------+--------+--------+---------+------------+\n",
            "|age|  TB| DB|AAP|SgptAA|SgotAA| TP|ALBA|A/G ratio|target|gender|age_group|TB_group|DB_group|AAP_group|SgptAA_group|\n",
            "+---+----+---+---+------+------+---+----+---------+------+------+---------+--------+--------+---------+------------+\n",
            "| 65| 0.7|0.1|187|    16|    18|6.8| 3.3|      0.9|     1|     1|      6.0|     0.0|     0.0|      1.0|         0.0|\n",
            "| 62|10.9|5.5|699|    64|   100|7.5| 3.2|     0.74|     1|     0|      6.0|     1.0|     2.0|      1.0|         1.0|\n",
            "| 62| 7.3|4.1|490|    60|    68|7.0| 3.3|     0.89|     1|     0|      6.0|     1.0|     2.0|      1.0|         1.0|\n",
            "| 58| 1.0|0.4|182|    14|    20|6.8| 3.4|      1.0|     1|     0|      5.0|     0.0|     1.0|      1.0|         0.0|\n",
            "| 72| 3.9|2.0|195|    27|    59|7.3| 2.4|      0.4|     1|     0|      7.0|     1.0|     2.0|      1.0|         0.0|\n",
            "+---+----+---+---+------+------+---+----+---------+------+------+---------+--------+--------+---------+------------+\n",
            "only showing top 5 rows\n",
            "\n"
          ]
        }
      ],
      "source": [
        "# Define SgptAA bins\n",
        "SgptAA_splits = [10,36, float('inf')]\n",
        "SgptAA_labels = ['10-36','36+']\n",
        "\n",
        "# Create Bucketizer object\n",
        "bucketizer = Bucketizer(splits=SgptAA_splits, inputCol=\"SgptAA\", outputCol=\"SgptAA_group\")\n",
        "\n",
        "# Apply bucketizer to dataframe\n",
        "df = bucketizer.transform(df)\n",
        "\n",
        "# Convert SgptAA group to string type\n",
        "df = df.withColumn(\"SgptAA_group\", df[\"SgptAA_group\"].cast(\"string\"))\n",
        "\n",
        "# Replace null values with \"Unknown\"\n",
        "df = df.fillna({'SgptAA_group': 'Unknown'})\n",
        "\n",
        "# Show DataFrame\n",
        "df.show(5)"
      ]
    },
    {
      "cell_type": "code",
      "execution_count": null,
      "metadata": {
        "colab": {
          "background_save": true
        },
        "id": "F0wQ_7aLV-G2",
        "outputId": "35eaf6c9-161b-4113-c8e8-a3fdc048f77d"
      },
      "outputs": [
        {
          "name": "stdout",
          "output_type": "stream",
          "text": [
            "+------------+----------------------+------------------+\n",
            "|SgptAA_group|amount of observations|amount of failures|\n",
            "+------------+----------------------+------------------+\n",
            "|         0.0|                 14726|              8786|\n",
            "|         1.0|                 15061|             12507|\n",
            "+------------+----------------------+------------------+\n",
            "\n"
          ]
        }
      ],
      "source": [
        "df_SgptAA=df.groupby('SgptAA_group').agg(count('*').alias('amount of observations'),\\\n",
        "                                   sum('target').alias('amount of failures')).orderBy('SgptAA_group')\n",
        "df_SgptAA.show()"
      ]
    },
    {
      "cell_type": "code",
      "execution_count": null,
      "metadata": {
        "colab": {
          "background_save": true
        },
        "id": "nQQqm3c4V-Jc",
        "outputId": "bc2e9358-05f1-4642-d363-58de9f2445c6"
      },
      "outputs": [
        {
          "name": "stdout",
          "output_type": "stream",
          "text": [
            "+------------+----------------------+------------------+------------+-----------------+\n",
            "|SgptAA_group|amount of observations|amount of failures|failure rate|observations rate|\n",
            "+------------+----------------------+------------------+------------+-----------------+\n",
            "|         0.0|                 14726|              8786|       59.66|            41.26|\n",
            "|         1.0|                 15061|             12507|       83.04|            58.74|\n",
            "+------------+----------------------+------------------+------------+-----------------+\n",
            "\n"
          ]
        }
      ],
      "source": [
        "df_SgptAA.withColumn('failure rate', func.round(((df_SgptAA['amount of failures']/df_SgptAA['amount of observations']) * 100),2))\\\n",
        "         .withColumn('observations rate', func.round((F.col('amount of failures')/F.sum('amount of failures').over(Window.partitionBy()) * 100),2)).show(100)"
      ]
    },
    {
      "cell_type": "markdown",
      "metadata": {
        "id": "7VcbSZAGW4Fd"
      },
      "source": [
        "We can see a straight relationship between SgptAA and the target variable. <br>\n",
        "When SgptAA is greater than 36 (not in the normal limit) the chances to diagnose liver disease are much higher."
      ]
    },
    {
      "cell_type": "markdown",
      "metadata": {
        "id": "rCjOV1xpW4Y4"
      },
      "source": [
        "### **SgotAA** one-dimensional analysis"
      ]
    },
    {
      "cell_type": "code",
      "execution_count": null,
      "metadata": {
        "colab": {
          "background_save": true
        },
        "id": "aqqdarw0W4iR",
        "outputId": "c07b9c1f-9399-4552-842e-aba6452ac6e6"
      },
      "outputs": [
        {
          "name": "stdout",
          "output_type": "stream",
          "text": [
            "+---+----+---+---+------+------+---+----+---------+------+------+---------+--------+--------+---------+------------+------------+\n",
            "|age|  TB| DB|AAP|SgptAA|SgotAA| TP|ALBA|A/G ratio|target|gender|age_group|TB_group|DB_group|AAP_group|SgptAA_group|SgotAA_group|\n",
            "+---+----+---+---+------+------+---+----+---------+------+------+---------+--------+--------+---------+------------+------------+\n",
            "| 65| 0.7|0.1|187|    16|    18|6.8| 3.3|      0.9|     1|     1|      6.0|     0.0|     0.0|      1.0|         0.0|         0.0|\n",
            "| 62|10.9|5.5|699|    64|   100|7.5| 3.2|     0.74|     1|     0|      6.0|     1.0|     2.0|      1.0|         1.0|         1.0|\n",
            "| 62| 7.3|4.1|490|    60|    68|7.0| 3.3|     0.89|     1|     0|      6.0|     1.0|     2.0|      1.0|         1.0|         1.0|\n",
            "| 58| 1.0|0.4|182|    14|    20|6.8| 3.4|      1.0|     1|     0|      5.0|     0.0|     1.0|      1.0|         0.0|         0.0|\n",
            "| 72| 3.9|2.0|195|    27|    59|7.3| 2.4|      0.4|     1|     0|      7.0|     1.0|     2.0|      1.0|         0.0|         1.0|\n",
            "+---+----+---+---+------+------+---+----+---------+------+------+---------+--------+--------+---------+------------+------------+\n",
            "only showing top 5 rows\n",
            "\n"
          ]
        }
      ],
      "source": [
        "# Define SgotAA bins\n",
        "SgotAA_splits = [10,33, float('inf')]\n",
        "SgotAA_labels = ['10-33','33+']\n",
        "\n",
        "# Create Bucketizer object\n",
        "bucketizer = Bucketizer(splits=SgotAA_splits, inputCol=\"SgotAA\", outputCol=\"SgotAA_group\")\n",
        "\n",
        "# Apply bucketizer to dataframe\n",
        "df = bucketizer.transform(df)\n",
        "\n",
        "# Convert SgotAA group to string type\n",
        "df = df.withColumn(\"SgotAA_group\", df[\"SgotAA_group\"].cast(\"string\"))\n",
        "\n",
        "# Replace null values with \"Unknown\"\n",
        "df = df.fillna({'SgotAA_group': 'Unknown'})\n",
        "\n",
        "# Show DataFrame\n",
        "df.show(5)"
      ]
    },
    {
      "cell_type": "code",
      "execution_count": null,
      "metadata": {
        "colab": {
          "background_save": true
        },
        "id": "G0XtBA1oW4ku",
        "outputId": "df5e4218-85fe-42a3-a24a-6e57b6a08d53"
      },
      "outputs": [
        {
          "name": "stdout",
          "output_type": "stream",
          "text": [
            "+------------+----------------------+------------------+\n",
            "|SgotAA_group|amount of observations|amount of failures|\n",
            "+------------+----------------------+------------------+\n",
            "|         0.0|                 11068|              6355|\n",
            "|         1.0|                 18719|             14938|\n",
            "+------------+----------------------+------------------+\n",
            "\n"
          ]
        }
      ],
      "source": [
        "df_SgotAA=df.groupby('SgotAA_group').agg(count('*').alias('amount of observations'),\\\n",
        "                                   sum('target').alias('amount of failures')).orderBy('SgotAA_group')\n",
        "df_SgotAA.show()"
      ]
    },
    {
      "cell_type": "code",
      "execution_count": null,
      "metadata": {
        "colab": {
          "background_save": true
        },
        "id": "nMXcxYpQW4nU",
        "outputId": "4454ccdd-6370-4cd1-8e95-0d8428823cdf"
      },
      "outputs": [
        {
          "name": "stdout",
          "output_type": "stream",
          "text": [
            "+------------+----------------------+------------------+------------+-----------------+\n",
            "|SgotAA_group|amount of observations|amount of failures|failure rate|observations rate|\n",
            "+------------+----------------------+------------------+------------+-----------------+\n",
            "|         0.0|                 11068|              6355|       57.42|            29.85|\n",
            "|         1.0|                 18719|             14938|        79.8|            70.15|\n",
            "+------------+----------------------+------------------+------------+-----------------+\n",
            "\n"
          ]
        }
      ],
      "source": [
        "df_SgotAA.withColumn('failure rate', func.round(((df_SgotAA['amount of failures']/df_SgotAA['amount of observations']) * 100),2))\\\n",
        "         .withColumn('observations rate', func.round((F.col('amount of failures')/F.sum('amount of failures').over(Window.partitionBy()) * 100),2)).show(100)"
      ]
    },
    {
      "cell_type": "markdown",
      "metadata": {
        "id": "v3Kd_rPkXnzM"
      },
      "source": [
        "We can see a straight relationship between SgotAA and the target variable. <br>\n",
        "When SgotAA is greater than 33 (not in the normal limit) the chances to diagnose liver disease are much higher."
      ]
    },
    {
      "cell_type": "markdown",
      "metadata": {
        "id": "5VQi8c6GXn1Y"
      },
      "source": [
        "### **TP** one-dimensional analysis"
      ]
    },
    {
      "cell_type": "code",
      "execution_count": null,
      "metadata": {
        "colab": {
          "background_save": true
        },
        "id": "qBn814qbXn-N",
        "outputId": "db7f4f99-4f3d-42ae-fdf6-e6fd4a579b78"
      },
      "outputs": [
        {
          "name": "stdout",
          "output_type": "stream",
          "text": [
            "+---+----+---+---+------+------+---+----+---------+------+------+---------+--------+--------+---------+------------+------------+--------+\n",
            "|age|  TB| DB|AAP|SgptAA|SgotAA| TP|ALBA|A/G ratio|target|gender|age_group|TB_group|DB_group|AAP_group|SgptAA_group|SgotAA_group|TP_group|\n",
            "+---+----+---+---+------+------+---+----+---------+------+------+---------+--------+--------+---------+------------+------------+--------+\n",
            "| 65| 0.7|0.1|187|    16|    18|6.8| 3.3|      0.9|     1|     1|      6.0|     0.0|     0.0|      1.0|         0.0|         0.0|     1.0|\n",
            "| 62|10.9|5.5|699|    64|   100|7.5| 3.2|     0.74|     1|     0|      6.0|     1.0|     2.0|      1.0|         1.0|         1.0|     1.0|\n",
            "| 62| 7.3|4.1|490|    60|    68|7.0| 3.3|     0.89|     1|     0|      6.0|     1.0|     2.0|      1.0|         1.0|         1.0|     1.0|\n",
            "| 58| 1.0|0.4|182|    14|    20|6.8| 3.4|      1.0|     1|     0|      5.0|     0.0|     1.0|      1.0|         0.0|         0.0|     1.0|\n",
            "| 72| 3.9|2.0|195|    27|    59|7.3| 2.4|      0.4|     1|     0|      7.0|     1.0|     2.0|      1.0|         0.0|         1.0|     1.0|\n",
            "+---+----+---+---+------+------+---+----+---------+------+------+---------+--------+--------+---------+------------+------------+--------+\n",
            "only showing top 5 rows\n",
            "\n"
          ]
        }
      ],
      "source": [
        "# Define TP bins\n",
        "TP_splits = [2.7,6.0,8.3, float('inf')]\n",
        "TP_labels = ['2.7-5.9','6.0-8.3','8.3+']\n",
        "\n",
        "# Create Bucketizer object\n",
        "bucketizer = Bucketizer(splits=TP_splits, inputCol=\"TP\", outputCol=\"TP_group\")\n",
        "\n",
        "# Apply bucketizer to dataframe\n",
        "df = bucketizer.transform(df)\n",
        "\n",
        "# Convert TP group to string type\n",
        "df = df.withColumn(\"TP_group\", df[\"TP_group\"].cast(\"string\"))\n",
        "\n",
        "# Replace null values with \"Unknown\"\n",
        "df = df.fillna({'TP_group': 'Unknown'})\n",
        "\n",
        "# Show DataFrame\n",
        "df.show(5)"
      ]
    },
    {
      "cell_type": "code",
      "execution_count": null,
      "metadata": {
        "colab": {
          "background_save": true
        },
        "id": "GqnfaHSGXoAh",
        "outputId": "fdd65261-2538-4915-9916-ed2d6417a3fe"
      },
      "outputs": [
        {
          "name": "stdout",
          "output_type": "stream",
          "text": [
            "+--------+----------------------+------------------+\n",
            "|TP_group|amount of observations|amount of failures|\n",
            "+--------+----------------------+------------------+\n",
            "|     0.0|                  8610|              6266|\n",
            "|     1.0|                 20207|             14343|\n",
            "|     2.0|                   970|               684|\n",
            "+--------+----------------------+------------------+\n",
            "\n"
          ]
        }
      ],
      "source": [
        "df_TP=df.groupby('TP_group').agg(count('*').alias('amount of observations'),\\\n",
        "                                   sum('target').alias('amount of failures')).orderBy('TP_group')\n",
        "df_TP.show()"
      ]
    },
    {
      "cell_type": "code",
      "execution_count": null,
      "metadata": {
        "colab": {
          "background_save": true
        },
        "id": "ZLpyi-kOXoDE",
        "outputId": "041954c3-5375-4a22-f2ff-dc55dc00bb00"
      },
      "outputs": [
        {
          "name": "stdout",
          "output_type": "stream",
          "text": [
            "+--------+----------------------+------------------+------------+-----------------+\n",
            "|TP_group|amount of observations|amount of failures|failure rate|observations rate|\n",
            "+--------+----------------------+------------------+------------+-----------------+\n",
            "|     0.0|                  8610|              6266|       72.78|            29.43|\n",
            "|     1.0|                 20207|             14343|       70.98|            67.36|\n",
            "|     2.0|                   970|               684|       70.52|             3.21|\n",
            "+--------+----------------------+------------------+------------+-----------------+\n",
            "\n"
          ]
        }
      ],
      "source": [
        "df_TP.withColumn('failure rate', func.round(((df_TP['amount of failures']/df_TP['amount of observations']) * 100),2))\\\n",
        "         .withColumn('observations rate', func.round((F.col('amount of failures')/F.sum('amount of failures').over(Window.partitionBy()) * 100),2)).show(100)"
      ]
    },
    {
      "cell_type": "markdown",
      "metadata": {
        "id": "YH0j1lTSlunf"
      },
      "source": [
        "We can see that there is no clear trend in the data that can identify a the relations between TP and the target value."
      ]
    },
    {
      "cell_type": "markdown",
      "metadata": {
        "id": "L5FWNKbOdzba"
      },
      "source": [
        "### **ALBA** one-dimensional analysis"
      ]
    },
    {
      "cell_type": "code",
      "execution_count": null,
      "metadata": {
        "colab": {
          "background_save": true
        },
        "id": "fovTXEkHdzsb",
        "outputId": "85a20241-aa57-43a3-b3f6-7f1639e8689f"
      },
      "outputs": [
        {
          "name": "stdout",
          "output_type": "stream",
          "text": [
            "+---+----+---+---+------+------+---+----+---------+------+------+---------+--------+--------+---------+------------+------------+--------+----------+\n",
            "|age|  TB| DB|AAP|SgptAA|SgotAA| TP|ALBA|A/G ratio|target|gender|age_group|TB_group|DB_group|AAP_group|SgptAA_group|SgotAA_group|TP_group|ALBA_group|\n",
            "+---+----+---+---+------+------+---+----+---------+------+------+---------+--------+--------+---------+------------+------------+--------+----------+\n",
            "| 65| 0.7|0.1|187|    16|    18|6.8| 3.3|      0.9|     1|     1|      6.0|     0.0|     0.0|      1.0|         0.0|         0.0|     1.0|       0.0|\n",
            "| 62|10.9|5.5|699|    64|   100|7.5| 3.2|     0.74|     1|     0|      6.0|     1.0|     2.0|      1.0|         1.0|         1.0|     1.0|       0.0|\n",
            "| 62| 7.3|4.1|490|    60|    68|7.0| 3.3|     0.89|     1|     0|      6.0|     1.0|     2.0|      1.0|         1.0|         1.0|     1.0|       0.0|\n",
            "| 58| 1.0|0.4|182|    14|    20|6.8| 3.4|      1.0|     1|     0|      5.0|     0.0|     1.0|      1.0|         0.0|         0.0|     1.0|       1.0|\n",
            "| 72| 3.9|2.0|195|    27|    59|7.3| 2.4|      0.4|     1|     0|      7.0|     1.0|     2.0|      1.0|         0.0|         1.0|     1.0|       0.0|\n",
            "+---+----+---+---+------+------+---+----+---------+------+------+---------+--------+--------+---------+------------+------------+--------+----------+\n",
            "only showing top 5 rows\n",
            "\n"
          ]
        }
      ],
      "source": [
        "# Define ALBA bins\n",
        "ALBA_splits = [0.9,3.4, float('inf')]\n",
        "ALBA_labels = ['0.9-3.4','3.5+']\n",
        "\n",
        "# Create Bucketizer object\n",
        "bucketizer = Bucketizer(splits=ALBA_splits, inputCol=\"ALBA\", outputCol=\"ALBA_group\")\n",
        "\n",
        "# Apply bucketizer to dataframe\n",
        "df = bucketizer.transform(df)\n",
        "\n",
        "# Convert ALBA group to string type\n",
        "df = df.withColumn(\"ALBA_group\", df[\"ALBA_group\"].cast(\"string\"))\n",
        "\n",
        "# Replace null values with \"Unknown\"\n",
        "df = df.fillna({'ALBA_group': 'Unknown'})\n",
        "\n",
        "# Show DataFrame\n",
        "df.show(5)"
      ]
    },
    {
      "cell_type": "code",
      "execution_count": null,
      "metadata": {
        "colab": {
          "background_save": true
        },
        "id": "ORf2FFuedzu3",
        "outputId": "47cbde92-bdac-4d38-efb2-adb3bb54cece"
      },
      "outputs": [
        {
          "name": "stdout",
          "output_type": "stream",
          "text": [
            "+----------+----------------------+------------------+\n",
            "|ALBA_group|amount of observations|amount of failures|\n",
            "+----------+----------------------+------------------+\n",
            "|       0.0|                 18328|             13997|\n",
            "|       1.0|                 11459|              7296|\n",
            "+----------+----------------------+------------------+\n",
            "\n"
          ]
        }
      ],
      "source": [
        "df_ALBA=df.groupby('ALBA_group').agg(count('*').alias('amount of observations'),\\\n",
        "                                     sum('target').alias('amount of failures')).orderBy('ALBA_group')\n",
        "df_ALBA.show()"
      ]
    },
    {
      "cell_type": "code",
      "execution_count": null,
      "metadata": {
        "colab": {
          "background_save": true
        },
        "id": "3Hyqf4b5dzxk",
        "outputId": "b1506bcb-71a3-4b7a-b317-aadf345a6c37"
      },
      "outputs": [
        {
          "name": "stdout",
          "output_type": "stream",
          "text": [
            "+----------+----------------------+------------------+------------+-----------------+\n",
            "|ALBA_group|amount of observations|amount of failures|failure rate|observations rate|\n",
            "+----------+----------------------+------------------+------------+-----------------+\n",
            "|       0.0|                 18328|             13997|       76.37|            65.74|\n",
            "|       1.0|                 11459|              7296|       63.67|            34.26|\n",
            "+----------+----------------------+------------------+------------+-----------------+\n",
            "\n"
          ]
        }
      ],
      "source": [
        "df_ALBA.withColumn('failure rate', func.round(((df_ALBA['amount of failures']/df_ALBA['amount of observations']) * 100),2))\\\n",
        "         .withColumn('observations rate', func.round((F.col('amount of failures')/F.sum('amount of failures').over(Window.partitionBy()) * 100),2)).show(200)"
      ]
    },
    {
      "cell_type": "markdown",
      "metadata": {
        "id": "-OBRttmlmBRE"
      },
      "source": [
        "We can see a straight relationship between ALBA and the target variable. <br>\n",
        "When ALBA is greater than 3.5 (not in the normal limit) the chances to diagnose liver disease are much higher."
      ]
    },
    {
      "cell_type": "markdown",
      "metadata": {
        "id": "pf245r23d-F5"
      },
      "source": [
        "### **A/G ratio** one-dimensional analysis"
      ]
    },
    {
      "cell_type": "code",
      "execution_count": null,
      "metadata": {
        "colab": {
          "background_save": true
        },
        "id": "GTfMcuIid-Ns",
        "outputId": "cf35a4e7-7666-4b75-8707-8b42f515977f"
      },
      "outputs": [
        {
          "name": "stdout",
          "output_type": "stream",
          "text": [
            "+---+----+---+---+------+------+---+----+---------+------+------+---------+--------+--------+---------+------------+------------+--------+----------+--------------+\n",
            "|age|  TB| DB|AAP|SgptAA|SgotAA| TP|ALBA|A/G ratio|target|gender|age_group|TB_group|DB_group|AAP_group|SgptAA_group|SgotAA_group|TP_group|ALBA_group|AG_ratio_group|\n",
            "+---+----+---+---+------+------+---+----+---------+------+------+---------+--------+--------+---------+------------+------------+--------+----------+--------------+\n",
            "| 65| 0.7|0.1|187|    16|    18|6.8| 3.3|      0.9|     1|     1|      6.0|     0.0|     0.0|      1.0|         0.0|         0.0|     1.0|       0.0|           0.0|\n",
            "| 62|10.9|5.5|699|    64|   100|7.5| 3.2|     0.74|     1|     0|      6.0|     1.0|     2.0|      1.0|         1.0|         1.0|     1.0|       0.0|           0.0|\n",
            "| 62| 7.3|4.1|490|    60|    68|7.0| 3.3|     0.89|     1|     0|      6.0|     1.0|     2.0|      1.0|         1.0|         1.0|     1.0|       0.0|           0.0|\n",
            "| 58| 1.0|0.4|182|    14|    20|6.8| 3.4|      1.0|     1|     0|      5.0|     0.0|     1.0|      1.0|         0.0|         0.0|     1.0|       1.0|           1.0|\n",
            "| 72| 3.9|2.0|195|    27|    59|7.3| 2.4|      0.4|     1|     0|      7.0|     1.0|     2.0|      1.0|         0.0|         1.0|     1.0|       0.0|           0.0|\n",
            "+---+----+---+---+------+------+---+----+---------+------+------+---------+--------+--------+---------+------------+------------+--------+----------+--------------+\n",
            "only showing top 5 rows\n",
            "\n"
          ]
        }
      ],
      "source": [
        "# Define A/G ratio bins\n",
        "AG_ratio_splits = [0.3,1.0,2.0, float('inf')]\n",
        "AG_ratio_labels = ['0.3-1.0','1.1-2.0','2.1+']\n",
        "\n",
        "# Create Bucketizer object\n",
        "bucketizer = Bucketizer(splits=AG_ratio_splits, inputCol=\"A/G ratio\", outputCol=\"AG_ratio_group\")\n",
        "\n",
        "# Apply bucketizer to dataframe\n",
        "df = bucketizer.transform(df)\n",
        "\n",
        "# Convert A/G ratio group to string type\n",
        "df = df.withColumn(\"AG_ratio_group\", df[\"AG_ratio_group\"].cast(\"string\"))\n",
        "\n",
        "# Replace null values with \"Unknown\"\n",
        "df = df.fillna({'AG_ratio_group': 'Unknown'})\n",
        "\n",
        "# Show DataFrame\n",
        "df.show(5)"
      ]
    },
    {
      "cell_type": "code",
      "execution_count": null,
      "metadata": {
        "colab": {
          "background_save": true
        },
        "id": "i5pLY8Vxd-QE",
        "outputId": "436bd2df-9c7a-4f77-862d-ce913fbb2241"
      },
      "outputs": [
        {
          "name": "stdout",
          "output_type": "stream",
          "text": [
            "+--------------+----------------------+------------------+\n",
            "|AG_ratio_group|amount of observations|amount of failures|\n",
            "+--------------+----------------------+------------------+\n",
            "|           0.0|                 15702|             12124|\n",
            "|           1.0|                 13913|              8997|\n",
            "|           2.0|                   172|               172|\n",
            "+--------------+----------------------+------------------+\n",
            "\n"
          ]
        }
      ],
      "source": [
        "df_AG_ratio=df.groupby('AG_ratio_group').agg(count('*').alias('amount of observations'),\\\n",
        "                                   sum('target').alias('amount of failures')).orderBy('AG_ratio_group')\n",
        "df_AG_ratio.show()"
      ]
    },
    {
      "cell_type": "code",
      "execution_count": null,
      "metadata": {
        "colab": {
          "background_save": true
        },
        "id": "lGACU6zid-Sp",
        "outputId": "4789cc31-4583-437f-e025-a715b6720aad"
      },
      "outputs": [
        {
          "name": "stdout",
          "output_type": "stream",
          "text": [
            "+--------------+----------------------+------------------+------------+-----------------+\n",
            "|AG_ratio_group|amount of observations|amount of failures|failure rate|observations rate|\n",
            "+--------------+----------------------+------------------+------------+-----------------+\n",
            "|           0.0|                 15702|             12124|       77.21|            56.94|\n",
            "|           1.0|                 13913|              8997|       64.67|            42.25|\n",
            "|           2.0|                   172|               172|       100.0|             0.81|\n",
            "+--------------+----------------------+------------------+------------+-----------------+\n",
            "\n"
          ]
        }
      ],
      "source": [
        "df_AG_ratio.withColumn('failure rate', func.round(((df_AG_ratio['amount of failures']/df_AG_ratio['amount of observations']) * 100),2))\\\n",
        "         .withColumn('observations rate', func.round((F.col('amount of failures')/F.sum('amount of failures').over(Window.partitionBy()) * 100),2)).show(100)"
      ]
    },
    {
      "cell_type": "markdown",
      "metadata": {
        "id": "wdMMW20nmaLp"
      },
      "source": [
        "We can see that there is no clear trend in the data that can identify a the relations between A/G ratio and the target value."
      ]
    },
    {
      "cell_type": "markdown",
      "metadata": {
        "id": "zPe4edYDLz6I"
      },
      "source": [
        "## Correlations"
      ]
    },
    {
      "cell_type": "markdown",
      "metadata": {
        "id": "CjJsJ2JVL1Xp"
      },
      "source": [
        "According to the methodology for developing statistical models, extremely high correlations should be avoided.\n",
        "\n",
        "In order to verify independence, a correlation analysis is performed between all the explanatory variables, which were found to be significant.\n",
        "\n",
        "A comparison is required with the values of the original risk characteristics.\n",
        "\n",
        "The correlations between the explanatory variables in the model are at reasonable levels (lower than 40%) and do not require special attention.\n",
        "\n",
        "A correlation above 40% would have indicated a high match between variables which would have required reference.\n"
      ]
    },
    {
      "cell_type": "markdown",
      "metadata": {
        "id": "irgAlCOGgsKa"
      },
      "source": [
        "### Heatmap correlation"
      ]
    },
    {
      "cell_type": "code",
      "execution_count": null,
      "metadata": {
        "colab": {
          "background_save": true
        },
        "id": "JTZ9sNvVgrRp",
        "outputId": "7362be2b-ae44-4abf-8521-dc34a2f9ba98"
      },
      "outputs": [
        {
          "data": {
            "image/png": "[encoded data removed]",
            "text/plain": [
              "<Figure size 864x576 with 2 Axes>"
            ]
          },
          "metadata": {},
          "output_type": "display_data"
        }
      ],
      "source": [
        "plt.figure(figsize=(12, 8))\n",
        "sns.heatmap(df.toPandas().corr(), annot=True)\n",
        "plt.title('Correlation Heatmap')\n",
        "plt.show()"
      ]
    },
    {
      "cell_type": "markdown",
      "metadata": {
        "id": "J9oCCy4Mm7dr"
      },
      "source": [
        "We can see from the above heatmap that there are 4 couples that have correlation above 40%: <br>\n",
        "\n",
        "\n",
        "*   TB & DB\n",
        "*   SgptAA & SgotAA \n",
        "*   TP & ALBA\n",
        "*   ALBA & *A*/G ratio\n"
      ]
    },
    {
      "cell_type": "markdown",
      "metadata": {
        "id": "zdVr8uC_g5YJ"
      },
      "source": [
        "## Pairplot correlation"
      ]
    },
    {
      "cell_type": "markdown",
      "metadata": {
        "id": "YywrQ_gu5rCp"
      },
      "source": [
        "### TB & DB correlation\n"
      ]
    },
    {
      "cell_type": "code",
      "execution_count": null,
      "metadata": {
        "colab": {
          "background_save": true
        },
        "id": "ov1dcmPQBGOJ",
        "outputId": "84372238-a326-4661-e199-44443a6c10e5"
      },
      "outputs": [
        {
          "data": {
            "image/png": "[encoded data removed]",
            "text/plain": [
              "<Figure size 432x216 with 2 Axes>"
            ]
          },
          "metadata": {},
          "output_type": "display_data"
        }
      ],
      "source": [
        "g = sns.FacetGrid(df.toPandas(),col='target',margin_titles=True)\n",
        "g.map(plt.scatter, 'TB','DB', edgecolor='w')\n",
        "plt.subplots_adjust(top=0.8)\n",
        "g.fig.suptitle('Scatter plot of TB and DB')\n",
        "plt.show()"
      ]
    },
    {
      "cell_type": "code",
      "execution_count": null,
      "metadata": {
        "colab": {
          "background_save": true
        },
        "id": "aD-bc5tnCHgS",
        "outputId": "4aeba445-57c0-4dfb-f157-0d85cb9dbe4d"
      },
      "outputs": [
        {
          "data": {
            "image/png": "[encoded data removed]",
            "text/plain": [
              "<Figure size 432x432 with 3 Axes>"
            ]
          },
          "metadata": {},
          "output_type": "display_data"
        }
      ],
      "source": [
        "sns.jointplot(x='TB',y='DB',data=df.toPandas(),kind='reg')\n",
        "plt.show()"
      ]
    },
    {
      "cell_type": "markdown",
      "metadata": {
        "id": "xHwGuQI89UFI"
      },
      "source": [
        "We can see that there is a linear relationship between DB and TB as the DB rises the TB rises as well. <br>\n",
        "The marginal histograms are both right-skewed as most values are concentrated around the left side of the distribution while the right side of the distribution is longer. <br>\n",
        "Outliers are the data points that lie far away from the rest of the data values, in the graph we can see outliers in the scatterplot as well as the histograms."
      ]
    },
    {
      "cell_type": "markdown",
      "metadata": {
        "id": "PwLwyVIF5wB5"
      },
      "source": [
        "### SgptAA & SgotAA correlation"
      ]
    },
    {
      "cell_type": "code",
      "execution_count": null,
      "metadata": {
        "colab": {
          "background_save": true
        },
        "id": "r7BAshWW5iik",
        "outputId": "9c101a12-54af-47fb-d224-ab55fca84fa2"
      },
      "outputs": [
        {
          "data": {
            "image/png": "[encoded data removed]",
            "text/plain": [
              "<Figure size 432x216 with 2 Axes>"
            ]
          },
          "metadata": {},
          "output_type": "display_data"
        }
      ],
      "source": [
        "g = sns.FacetGrid(df.toPandas(),col='target',margin_titles=True)\n",
        "g.map(plt.scatter, 'SgptAA','SgotAA', edgecolor='w')\n",
        "plt.subplots_adjust(top=0.8)\n",
        "g.fig.suptitle('Scatter plot of SgptAA and SgotAA')\n",
        "plt.show()"
      ]
    },
    {
      "cell_type": "code",
      "execution_count": null,
      "metadata": {
        "colab": {
          "background_save": true
        },
        "id": "yAGFCCQg5ik0",
        "outputId": "1ab40969-2f38-4b7f-9d57-f62135dd7992"
      },
      "outputs": [
        {
          "data": {
            "image/png": "[encoded data removed]",
            "text/plain": [
              "<Figure size 432x432 with 3 Axes>"
            ]
          },
          "metadata": {},
          "output_type": "display_data"
        }
      ],
      "source": [
        "sns.jointplot(x='SgptAA',y='SgotAA',data=df.toPandas(),kind='reg')\n",
        "plt.show()"
      ]
    },
    {
      "cell_type": "markdown",
      "metadata": {
        "id": "xrM3TUGIAGVW"
      },
      "source": [
        "We can not really see the relationship between the variables. <br>\n",
        "The marginal histograms are both right-skewed as most values are concentrated around the left side of the distribution while the right side of the distribution is longer.\n",
        "Outliers are the data points that lie far away from the rest of the data values, in the graph we can see outliers in the scatterplot as well as the histograms."
      ]
    },
    {
      "cell_type": "markdown",
      "metadata": {
        "id": "MX5LtAQD55dU"
      },
      "source": [
        "### TP & ALBA correlation"
      ]
    },
    {
      "cell_type": "code",
      "execution_count": null,
      "metadata": {
        "colab": {
          "background_save": true
        },
        "id": "XNu7tC8V5inH",
        "outputId": "1e601edf-3b00-40dc-d739-6f5aaf6664d5"
      },
      "outputs": [
        {
          "data": {
            "image/png": "[encoded data removed]",
            "text/plain": [
              "<Figure size 432x216 with 2 Axes>"
            ]
          },
          "metadata": {},
          "output_type": "display_data"
        }
      ],
      "source": [
        "g = sns.FacetGrid(df.toPandas(),col='target',margin_titles=True)\n",
        "g.map(plt.scatter, 'TP','ALBA', edgecolor='w')\n",
        "plt.subplots_adjust(top=0.8)\n",
        "g.fig.suptitle('Scatter plot of TP and ALBA')\n",
        "plt.show()"
      ]
    },
    {
      "cell_type": "code",
      "execution_count": null,
      "metadata": {
        "colab": {
          "background_save": true
        },
        "id": "udp87e_e5ipd",
        "outputId": "de72e541-a9de-4299-c47a-7995f9cfec18"
      },
      "outputs": [
        {
          "data": {
            "image/png": "[encoded data removed]",
            "text/plain": [
              "<Figure size 432x432 with 3 Axes>"
            ]
          },
          "metadata": {},
          "output_type": "display_data"
        }
      ],
      "source": [
        "sns.jointplot(x='TP',y='ALBA',data=df.toPandas(),kind='reg')\n",
        "plt.show()"
      ]
    },
    {
      "cell_type": "markdown",
      "metadata": {
        "id": "4TWFqMDG_LaM"
      },
      "source": [
        "Observing the scatterplot above, there seems to be a positive relationship between the columns TP and ALBA because if the values of one variable increase so does the other.\n",
        "\n",
        "The strength of the relationship appears to be moderate because the points are scattered in the graph."
      ]
    },
    {
      "cell_type": "markdown",
      "metadata": {
        "id": "lxzqFwIX572V"
      },
      "source": [
        "### ALBA & A/G ratio"
      ]
    },
    {
      "cell_type": "code",
      "execution_count": null,
      "metadata": {
        "colab": {
          "background_save": true
        },
        "id": "xk0Hfpw4579r",
        "outputId": "334f828b-aa98-4321-aef7-35df2d4ab0dc"
      },
      "outputs": [
        {
          "data": {
            "image/png": "[encoded data removed]",
            "text/plain": [
              "<Figure size 432x216 with 2 Axes>"
            ]
          },
          "metadata": {},
          "output_type": "display_data"
        }
      ],
      "source": [
        "g = sns.FacetGrid(df.toPandas(),col='target',margin_titles=True)\n",
        "g.map(plt.scatter, 'ALBA','A/G ratio', edgecolor='w')\n",
        "plt.subplots_adjust(top=0.8)\n",
        "g.fig.suptitle('Scatter plot of ALBA and A/G ratio')\n",
        "plt.show()"
      ]
    },
    {
      "cell_type": "code",
      "execution_count": null,
      "metadata": {
        "colab": {
          "background_save": true
        },
        "id": "DRAh1ORd57_1",
        "outputId": "cd192442-ea8d-4a09-ea42-63d28c361ce0"
      },
      "outputs": [
        {
          "data": {
            "image/png": "[encoded data removed]",
            "text/plain": [
              "<Figure size 432x432 with 3 Axes>"
            ]
          },
          "metadata": {},
          "output_type": "display_data"
        }
      ],
      "source": [
        "sns.jointplot(x='ALBA',y='A/G ratio',data=df.toPandas(),kind='reg')\n",
        "plt.show()"
      ]
    },
    {
      "cell_type": "markdown",
      "metadata": {
        "id": "FoTWvH-g_6Do"
      },
      "source": [
        "Observing the scatterplot above, there seems to be a positive relationship between the columns ALBA and A/G ratio because if the values of one variable increase so does the other.\n",
        "\n",
        "The strength of the relationship appears to be moderate because the points are scattered in the graph."
      ]
    },
    {
      "cell_type": "markdown",
      "metadata": {
        "id": "9Yu6lh5VAr2l"
      },
      "source": [
        "## Conclusion of final features"
      ]
    },
    {
      "cell_type": "markdown",
      "metadata": {
        "id": "o6UKWLCi7X5H"
      },
      "source": [
        "From the above jointplots and scatterplots we find direct relationship between the following features:\n",
        "\n",
        "*   TB & DB\n",
        "*   SgptAA & SgotAA \n",
        "*   TP & ALBA\n",
        "*   ALBA & A/G ratio\n",
        "\n",
        "Hence, we can very well find that we can omit one of the features. We are going to keep the following features:\n",
        "\n",
        "*   TB\n",
        "*   SgptAA\n",
        "*   TP\n",
        "*   A/G ratio\n",
        "\n",
        "Therefore, the final features that are going to be tested in the ML models:\n",
        "\n",
        "*   Age\n",
        "*   TB\n",
        "*   AAP\n",
        "*   SgptAA\n",
        "*   TP\n",
        "*   A/G ratio"
      ]
    },
    {
      "cell_type": "markdown",
      "metadata": {
        "id": "R4raj3npMIkx"
      },
      "source": [
        "### "
      ]
    },
    {
      "cell_type": "markdown",
      "metadata": {
        "id": "JcCTPnajMJ88"
      },
      "source": []
    },
    {
      "cell_type": "markdown",
      "metadata": {
        "id": "BxZ1Za4dGBBG"
      },
      "source": [
        "## Multidimensional analysis & Model Selection\n"
      ]
    },
    {
      "cell_type": "markdown",
      "metadata": {
        "id": "Tre_l54AB8_L"
      },
      "source": [
        "We will test several ML models:\n",
        "\n",
        "\n",
        "*   Logistic regression\n",
        "*   Random forest\n",
        "*   Gaussian Naive Bayes\n",
        "\n",
        "We want to choose the best suited model for our particular problem.\n",
        "So we will choose the model with the hightest AUC."
      ]
    },
    {
      "cell_type": "markdown",
      "metadata": {
        "id": "jcD3gZuCpkHu"
      },
      "source": [
        "In healthcare we want to check the confiusion matrix, in particular the FN to be as smallest as possible.\n",
        "\n",
        "We don't want to predict that a peitent doesn't have liver desis when he/she actualy has. \n",
        "\n",
        "So we will choose a the model that gives us the smallest value."
      ]
    },
    {
      "cell_type": "markdown",
      "metadata": {
        "id": "uAp4GncPFICd"
      },
      "source": [
        "![confusion matrix.png](data:image/png;base64,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)"
      ]
    },
    {
      "cell_type": "markdown",
      "metadata": {
        "id": "Ijzslnm3Zwe2"
      },
      "source": [
        "## Prepare the data for machine learning"
      ]
    },
    {
      "cell_type": "code",
      "execution_count": null,
      "metadata": {
        "colab": {
          "background_save": true
        },
        "id": "tm84t3SAxE4N"
      },
      "outputs": [],
      "source": [
        "# Prepare the data for machine learning by assembling the feature columns into a vector\n",
        "assembler = VectorAssembler(inputCols=['age', 'gender', 'TB', 'AAP', 'SgptAA', 'TP', 'A/G ratio'], outputCol=\"features\", handleInvalid=\"skip\")\n",
        "\n",
        "data = assembler.transform(df).select(\"features\", \"target\")\n",
        "\n",
        "# Split the data into training and test sets\n",
        "(trainingData, testData) = data.randomSplit([0.7, 0.3], seed=42)"
      ]
    },
    {
      "cell_type": "markdown",
      "metadata": {
        "id": "r1OCvio6hV0m"
      },
      "source": [
        "#### Logistic Regression"
      ]
    },
    {
      "cell_type": "code",
      "execution_count": null,
      "metadata": {
        "colab": {
          "background_save": true
        },
        "id": "GE1Lt2YnhWB0",
        "outputId": "d8c096ab-bd8b-4a0b-de0d-7e513d927efd"
      },
      "outputs": [
        {
          "name": "stdout",
          "output_type": "stream",
          "text": [
            "Logistic Regression Test AUC = 0.748967\n",
            "Logistic Regression Test Error = 0.277233\n"
          ]
        }
      ],
      "source": [
        "# Train a Logistic Regression Classifier model\n",
        "lr_classifier = LogisticRegression(labelCol=\"target\", featuresCol=\"features\").fit(trainingData)\n",
        "\n",
        "# Make predictions on the test data\n",
        "lr_predictions = lr_classifier.transform(testData)\n",
        "\n",
        "# Evaluate the model's performance\n",
        "lr_auc = BinaryClassificationEvaluator(labelCol='target').evaluate(lr_predictions)\n",
        "print(\"Logistic Regression Test AUC = %g\" % lr_auc)\n",
        "\n",
        "# Evaluate the model's performance\n",
        "lr_evaluator = MulticlassClassificationEvaluator(labelCol=\"target\", predictionCol=\"prediction\", metricName=\"accuracy\")\n",
        "lr_accuracy = lr_evaluator.evaluate(lr_predictions)\n",
        "print(\"Logistic Regression Test Error = %g\" % (1.0-lr_accuracy))"
      ]
    },
    {
      "cell_type": "markdown",
      "metadata": {
        "id": "nn32gSCLxI8u"
      },
      "source": [
        "Precision & Recall"
      ]
    },
    {
      "cell_type": "code",
      "execution_count": null,
      "metadata": {
        "colab": {
          "background_save": true
        },
        "id": "9HKup8WXwg8p",
        "outputId": "2f1b8465-3bc7-43e3-d5b2-9ef2f70630a6"
      },
      "outputs": [
        {
          "name": "stdout",
          "output_type": "stream",
          "text": [
            "Logistic Regression Precision:  0.6808598813571405\n",
            "Logistic Regression Recall:  0.7227667004618678\n",
            "Logistic Regression F1-score:  0.6516052998777921\n",
            "Logistic Regression Support:  8877\n"
          ]
        }
      ],
      "source": [
        "# evaluate the test predictions using MulticlassClassificationEvaluator\n",
        "lr_precision = lr_evaluator.evaluate(lr_predictions, {lr_evaluator.metricName: \"weightedPrecision\"})\n",
        "lr_recall = lr_evaluator.evaluate(lr_predictions, {lr_evaluator.metricName: \"weightedRecall\"})\n",
        "lr_f1_score = lr_evaluator.evaluate(lr_predictions, {lr_evaluator.metricName: \"f1\"})\n",
        "lr_support = lr_predictions.count()\n",
        "\n",
        "# print the results\n",
        "print(\"Logistic Regression Precision: \", lr_precision)\n",
        "print(\"Logistic Regression Recall: \", lr_recall)\n",
        "print(\"Logistic Regression F1-score: \", lr_f1_score)\n",
        "print(\"Logistic Regression Support: \", lr_support)"
      ]
    },
    {
      "cell_type": "markdown",
      "metadata": {
        "id": "w9uqXiihxPGb"
      },
      "source": [
        "Confusion matrix"
      ]
    },
    {
      "cell_type": "code",
      "execution_count": null,
      "metadata": {
        "colab": {
          "background_save": true
        },
        "id": "rbVrJMpnw5g5"
      },
      "outputs": [],
      "source": [
        "# Get the confusion matrix as a NumPy array\n",
        "lr_confusion_matrix = lr_predictions.groupBy(\"target\", \"prediction\").count().orderBy(\"target\", \"prediction\").toPandas().pivot(index=\"target\", columns=\"prediction\", values=\"count\").fillna(0).values\n"
      ]
    },
    {
      "cell_type": "code",
      "execution_count": null,
      "metadata": {
        "colab": {
          "background_save": true
        },
        "id": "sCCgZvEfxAyX",
        "outputId": "73e8fa34-6446-46e5-c66a-45d2d73faab1"
      },
      "outputs": [
        {
          "data": {
            "image/png": "[encoded data removed]",
            "text/plain": [
              "<Figure size 360x360 with 1 Axes>"
            ]
          },
          "metadata": {},
          "output_type": "display_data"
        }
      ],
      "source": [
        "plt.figure(figsize=(5,5))\n",
        "sns.heatmap(lr_confusion_matrix, annot=True, fmt=\"g\", vmin=0, cmap=\"Blues\", cbar=False)\n",
        "plt.xlabel(\"Predicted\")\n",
        "plt.ylabel(\"Actual\")\n",
        "plt.title(\"Logistic Regression Confusion matrix\")\n",
        "plt.show()"
      ]
    },
    {
      "cell_type": "markdown",
      "metadata": {
        "id": "MIDK1ZmxQLJo"
      },
      "source": [
        "#### Random Forest"
      ]
    },
    {
      "cell_type": "code",
      "execution_count": null,
      "metadata": {
        "id": "QC9UPT5dW2yF"
      },
      "outputs": [],
      "source": [
        "# Train a Random Forest Classifier model\n",
        "rf_classifier = RandomForestClassifier(labelCol=\"target\", featuresCol=\"features\", seed=42).fit(trainingData)\n",
        "\n",
        "# Make predictions on the test data\n",
        "rf_predictions = rf_classifier.transform(testData)\n",
        "\n",
        "# Evaluate the model's performance\n",
        "rf_auc = BinaryClassificationEvaluator(labelCol='target').evaluate(rf_predictions)\n",
        "print(\"Random Forest Test AUC = %g\" % rf_auc)\n",
        "\n",
        "# Evaluate the model's performance\n",
        "rf_evaluator = MulticlassClassificationEvaluator(labelCol=\"target\", predictionCol=\"prediction\", metricName=\"accuracy\")\n",
        "rf_accuracy = rf_evaluator.evaluate(rf_predictions)\n",
        "print(\"Random Forest Test Error = %g\" % (1.0-rf_accuracy))"
      ]
    },
    {
      "cell_type": "code",
      "execution_count": null,
      "metadata": {
        "colab": {
          "background_save": true
        },
        "id": "TmjPfnzxZMts",
        "outputId": "134da7a0-beee-42a1-e932-00600301ff32"
      },
      "outputs": [
        {
          "data": {
            "text/plain": [
              "SparseVector(7, {2: 0.3345, 3: 0.222, 4: 0.2811, 5: 0.0766, 6: 0.0858})"
            ]
          },
          "execution_count": 165,
          "metadata": {},
          "output_type": "execute_result"
        }
      ],
      "source": [
        "rf_classifier.featureImportances"
      ]
    },
    {
      "cell_type": "markdown",
      "metadata": {
        "id": "s6OcOQa0lEFc"
      },
      "source": [
        "Precision & Recall"
      ]
    },
    {
      "cell_type": "code",
      "execution_count": null,
      "metadata": {
        "colab": {
          "background_save": true
        },
        "id": "nnYe-4kOlELy",
        "outputId": "ebeb1f19-d131-463f-8a83-78de37311bf4"
      },
      "outputs": [
        {
          "name": "stdout",
          "output_type": "stream",
          "text": [
            "Random Forest Precision:  0.7972576816754825\n",
            "Random Forest Recall:  0.7946378280950772\n",
            "Random Forest F1-score:  0.7651304490175225\n",
            "Random Forest Support:  8877\n"
          ]
        }
      ],
      "source": [
        "# evaluate the test predictions using MulticlassClassificationEvaluator\n",
        "rf_precision = rf_evaluator.evaluate(rf_predictions, {rf_evaluator.metricName: \"weightedPrecision\"})\n",
        "rf_recall = rf_evaluator.evaluate(rf_predictions, {rf_evaluator.metricName: \"weightedRecall\"})\n",
        "rf_f1_score = rf_evaluator.evaluate(rf_predictions, {rf_evaluator.metricName: \"f1\"})\n",
        "rf_support = rf_predictions.count()\n",
        "\n",
        "# print the results\n",
        "print(\"Random Forest Precision: \", rf_precision)\n",
        "print(\"Random Forest Recall: \", rf_recall)\n",
        "print(\"Random Forest F1-score: \", rf_f1_score)\n",
        "print(\"Random Forest Support: \", rf_support)"
      ]
    },
    {
      "cell_type": "markdown",
      "metadata": {
        "id": "Kb1z7YJelgF3"
      },
      "source": [
        "Confusion matrix"
      ]
    },
    {
      "cell_type": "code",
      "execution_count": null,
      "metadata": {
        "id": "pJnsPvZwlgMH"
      },
      "outputs": [],
      "source": [
        "# Get the confusion matrix as a NumPy array\n",
        "rf_confusion_matrix = rf_predictions.groupBy(\"target\", \"prediction\").count().orderBy(\"target\", \"prediction\").toPandas().pivot(index=\"target\", columns=\"prediction\", values=\"count\").fillna(0).values\n"
      ]
    },
    {
      "cell_type": "code",
      "execution_count": null,
      "metadata": {
        "colab": {
          "background_save": true
        },
        "id": "SLUi1EdaPGhA",
        "outputId": "b0577fb6-bbf7-49f6-c15c-65bc15274dcb"
      },
      "outputs": [
        {
          "data": {
            "image/png": "[encoded data removed]",
            "text/plain": [
              "<Figure size 360x360 with 1 Axes>"
            ]
          },
          "metadata": {},
          "output_type": "display_data"
        }
      ],
      "source": [
        "plt.figure(figsize=(5,5))\n",
        "sns.heatmap(rf_confusion_matrix, annot=True, fmt=\"g\", vmin=0, cmap=\"Blues\", cbar=False)\n",
        "plt.xlabel(\"Predicted\")\n",
        "plt.ylabel(\"Actual\")\n",
        "plt.title(\"Random Forest Confusion matrix\")\n",
        "plt.show()"
      ]
    },
    {
      "cell_type": "markdown",
      "metadata": {
        "id": "nPpN1sYTpazA"
      },
      "source": [
        "#### Gaussian Naive Bayes"
      ]
    },
    {
      "cell_type": "code",
      "execution_count": null,
      "metadata": {
        "colab": {
          "background_save": true
        },
        "id": "ypgW5vpz0aEE",
        "outputId": "35e30c8d-bc9d-4fb1-b6ff-880632b5cfb2"
      },
      "outputs": [
        {
          "name": "stdout",
          "output_type": "stream",
          "text": [
            "Gaussian Naive Bayes Test AUC = 0.437237\n",
            "Gaussian Naive Bayes Test Error = 0.443168\n"
          ]
        }
      ],
      "source": [
        "# Define the Gaussian Naive Bayes model and train the model on the training data\n",
        "gnb_classifier = NaiveBayes(labelCol=\"target\", featuresCol=\"features\",smoothing=1.0, modelType=\"gaussian\").fit(trainingData)\n",
        "\n",
        "# Make predictions on the test data\n",
        "gnb_predictions = gnb_classifier.transform(testData)\n",
        "\n",
        "# Evaluate the model's performance\n",
        "gnb_auc = BinaryClassificationEvaluator(labelCol='target').evaluate(gnb_predictions)\n",
        "print(\"Gaussian Naive Bayes Test AUC = %g\" % gnb_auc)\n",
        "\n",
        "# Evaluate the model's performance\n",
        "gnb_evaluator = MulticlassClassificationEvaluator(labelCol=\"target\", predictionCol=\"prediction\", metricName=\"accuracy\")\n",
        "gnb_accuracy = gnb_evaluator.evaluate(gnb_predictions)\n",
        "print(\"Gaussian Naive Bayes Test Error = %g\" % (1.0-gnb_accuracy))"
      ]
    },
    {
      "cell_type": "markdown",
      "metadata": {
        "id": "DBzlTSokyI9I"
      },
      "source": [
        "Precision & Recall"
      ]
    },
    {
      "cell_type": "code",
      "execution_count": null,
      "metadata": {
        "id": "llIOh_E2yG1M"
      },
      "outputs": [],
      "source": [
        "# Evaluate the performance of the model\n",
        "gnb_accuracy = MulticlassClassificationEvaluator(predictionCol=\"prediction\", labelCol=\"target\", metricName=\"accuracy\").evaluate(gnb_predictions)\n",
        "print(\"Gaussian Naive Bayes Accuracy = %g\" % gnb_accuracy)\n",
        "\n",
        "gnb_precision = MulticlassClassificationEvaluator(predictionCol=\"prediction\", labelCol=\"target\", metricName=\"weightedPrecision\").evaluate(gnb_predictions)\n",
        "print(\"Gaussian Naive Bayes Precision = %g\" % gnb_precision)\n",
        "\n",
        "gnb_recall = MulticlassClassificationEvaluator(predictionCol=\"prediction\", labelCol=\"target\", metricName=\"weightedRecall\").evaluate(gnb_predictions)\n",
        "print(\"Gaussian Naive Bayes Recall = %g\" % gnb_recall)\n",
        "\n",
        "gnb_f1_score = MulticlassClassificationEvaluator(predictionCol=\"prediction\", labelCol=\"target\", metricName=\"f1\").evaluate(gnb_predictions)\n",
        "print(\"Gaussian Naive Bayes F1 Score = %g\" % gnb_f1_score)"
      ]
    },
    {
      "cell_type": "markdown",
      "metadata": {
        "id": "1cuUiS8vyfkD"
      },
      "source": [
        "Confusion matrix"
      ]
    },
    {
      "cell_type": "code",
      "execution_count": null,
      "metadata": {
        "colab": {
          "background_save": true
        },
        "id": "xy0PsHcn1KVE"
      },
      "outputs": [],
      "source": [
        "# Get the confusion matrix as a NumPy array\n",
        "gnb_confusion_matrix = gnb_predictions.groupBy(\"target\", \"prediction\").count().orderBy(\"target\", \"prediction\").toPandas().pivot(index=\"target\", columns=\"prediction\", values=\"count\").fillna(0).values\n"
      ]
    },
    {
      "cell_type": "code",
      "execution_count": null,
      "metadata": {
        "colab": {
          "background_save": true
        },
        "id": "1eFrEihBuNSO",
        "outputId": "8fae2217-1734-4514-a7cf-e1b1e8d495f4"
      },
      "outputs": [
        {
          "data": {
            "image/png": "[encoded data removed]",
            "text/plain": [
              "<Figure size 360x360 with 1 Axes>"
            ]
          },
          "metadata": {},
          "output_type": "display_data"
        }
      ],
      "source": [
        "plt.figure(figsize=(5,5))\n",
        "sns.heatmap(gnb_confusion_matrix, annot=True, fmt=\"g\", vmin=0, cmap=\"Blues\", cbar=False)\n",
        "plt.xlabel(\"Predicted\")\n",
        "plt.ylabel(\"Actual\")\n",
        "plt.title(\"Gaussian Naive Bayes Confusion matrix\")\n",
        "plt.show()"
      ]
    },
    {
      "cell_type": "code",
      "execution_count": null,
      "metadata": {
        "id": "cFjuD4f7_JEO"
      },
      "outputs": [],
      "source": [
        "df_results = spark.createDataFrame(\n",
        "         [(\"Random Forest\",rf_auc,rf_precision,rf_recall,rf_f1_score),\n",
        "          (\"Logistic Regression\",lr_auc,lr_precision,lr_recall,lr_f1_score),     \n",
        "          (\"Gaussian Naive Bayes\",gnb_auc,gnb_precision,gnb_recall,gnb_f1_score)],\n",
        "          \n",
        "    [\"ML model\",\"AUC\",\"Precision\",\"Recall\",\"F1-score\"] \n",
        ")\n",
        "\n",
        "df_results.toPandas()"
      ]
    },
    {
      "cell_type": "markdown",
      "metadata": {
        "id": "slRAgazjqKgb"
      },
      "source": [
        "We chose Random Forest\tbecause it has the highest AUC and the lowest FN value."
      ]
    },
    {
      "cell_type": "code",
      "execution_count": null,
      "metadata": {
        "id": "YxG3DYGUqShB"
      },
      "outputs": [],
      "source": []
    }
  ],
  "metadata": {
    "colab": {
      "collapsed_sections": [
        "H3z9vDJMGsWy",
        "_ikXBpgdh0Vx",
        "vzhEWEwvSQYV",
        "AjCSpwUVUU9F",
        "LdYSkTQHV99K",
        "rCjOV1xpW4Y4",
        "pf245r23d-F5",
        "irgAlCOGgsKa",
        "zdVr8uC_g5YJ",
        "YywrQ_gu5rCp",
        "PwLwyVIF5wB5",
        "MX5LtAQD55dU",
        "lxzqFwIX572V",
        "9Yu6lh5VAr2l"
      ],
      "provenance": []
    },
    "kernelspec": {
      "display_name": "Python 3",
      "name": "python3"
    },
    "language_info": {
      "name": "python"
    }
  },
  "nbformat": 4,
  "nbformat_minor": 0
}